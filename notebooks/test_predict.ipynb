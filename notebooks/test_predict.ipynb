{
 "cells": [
  {
   "cell_type": "code",
   "execution_count": 89,
   "metadata": {},
   "outputs": [
    {
     "name": "stdout",
     "output_type": "stream",
     "text": [
      "The autoreload extension is already loaded. To reload it, use:\n",
      "  %reload_ext autoreload\n"
     ]
    }
   ],
   "source": [
    "%load_ext autoreload\n",
    "%autoreload 2"
   ]
  },
  {
   "cell_type": "code",
   "execution_count": 90,
   "metadata": {},
   "outputs": [],
   "source": [
    "#from dogs_prediction.DL_logic.utils import display_images\n",
    "#dogs_prediction/DL_logic/predict.py\n",
    "from dogs_prediction.DL_logic.predict import compile_model, predict_labels\n",
    "#from dogs_prediction.DL_logic.predict import loading_method\n",
    "from  dogs_prediction.params import *\n",
    "from dogs_prediction.DL_logic.registry import load_latest_model\n",
    "from dogs_prediction.DL_logic.registry import load_selected_model"
   ]
  },
  {
   "attachments": {},
   "cell_type": "markdown",
   "metadata": {},
   "source": [
    "# Load the model"
   ]
  },
  {
   "cell_type": "code",
   "execution_count": 61,
   "metadata": {},
   "outputs": [
    {
     "data": {
      "text/plain": [
       "'local'"
      ]
     },
     "execution_count": 61,
     "metadata": {},
     "output_type": "execute_result"
    }
   ],
   "source": [
    "MODEL_TARGET"
   ]
  },
  {
   "cell_type": "code",
   "execution_count": 8,
   "metadata": {},
   "outputs": [
    {
     "name": "stdout",
     "output_type": "stream",
     "text": [
      "\u001b[34m\n",
      "Load latest model from GCS...\u001b[0m\n",
      "✅ Latest model downloaded from cloud storage\n",
      "✅ Model compiled\n"
     ]
    }
   ],
   "source": [
    "model = load_latest_model(\"gcp\")\n",
    "model = compile_model(model)"
   ]
  },
  {
   "cell_type": "code",
   "execution_count": 9,
   "metadata": {},
   "outputs": [],
   "source": [
    "url = \"https://www.purina.co.uk/sites/default/files/2022-07/French-Bulldog.jpg\""
   ]
  },
  {
   "cell_type": "code",
   "execution_count": 10,
   "metadata": {},
   "outputs": [
    {
     "name": "stdout",
     "output_type": "stream",
     "text": [
      "Model: \"sequential_2\"\n",
      "_________________________________________________________________\n",
      " Layer (type)                Output Shape              Param #   \n",
      "=================================================================\n",
      " random_flip_2 (RandomFlip)  (None, 224, 224, 3)       0         \n",
      "                                                                 \n",
      " random_rotation_2 (RandomRo  (None, 224, 224, 3)      0         \n",
      " tation)                                                         \n",
      "                                                                 \n",
      " random_zoom_2 (RandomZoom)  (None, 224, 224, 3)       0         \n",
      "                                                                 \n",
      " resnet50 (Functional)       (None, 7, 7, 2048)        23587712  \n",
      "                                                                 \n",
      " global_average_pooling2d_2   (None, 2048)             0         \n",
      " (GlobalAveragePooling2D)                                        \n",
      "                                                                 \n",
      " dense_4 (Dense)             (None, 256)               524544    \n",
      "                                                                 \n",
      " dropout_2 (Dropout)         (None, 256)               0         \n",
      "                                                                 \n",
      " dense_5 (Dense)             (None, 120)               30840     \n",
      "                                                                 \n",
      "=================================================================\n",
      "Total params: 24,143,096\n",
      "Trainable params: 555,384\n",
      "Non-trainable params: 23,587,712\n",
      "_________________________________________________________________\n"
     ]
    }
   ],
   "source": [
    "model.summary()"
   ]
  },
  {
   "cell_type": "code",
   "execution_count": 12,
   "metadata": {},
   "outputs": [
    {
     "name": "stdout",
     "output_type": "stream",
     "text": [
      "✅ get image received: img=False, url_with_pic=True\n",
      "✅ got image url: https://www.purina.co.uk/sites/default/files/2022-07/French-Bulldog.jpg\n",
      "✅ image resized\n",
      "✅ Image successfully loaded\n",
      "✅ Image successfully reshaped (1, 224, 224, 3)\n",
      "✅ Model compiled\n",
      "✅ Model successfully loaded and compiled\n",
      "✅ Image successfully preprocessed (resnet50)\n",
      "✅ Predicting breed...\n",
      "1/1 [==============================] - 2s 2s/step\n",
      "✅ Breed predicted\n"
     ]
    },
    {
     "data": {
      "text/plain": [
       "{'prediction': {'first': 'French_bulldog',\n",
       "  'second': 'pug',\n",
       "  'third': 'Brabancon_griffon'},\n",
       " 'score': {'first': 0.949999988079071,\n",
       "  'second': 0.019999999552965164,\n",
       "  'third': 0.009999999776482582}}"
      ]
     },
     "execution_count": 12,
     "metadata": {},
     "output_type": "execute_result"
    }
   ],
   "source": [
    "predict_labels(model, \"resnet50\", url_with_pic=url)"
   ]
  },
  {
   "attachments": {},
   "cell_type": "markdown",
   "metadata": {},
   "source": [
    "# Test load a selected model\n",
    "\n",
    "So we can choose between:\n",
    "- Resnet50\n",
    "- InceptionV3"
   ]
  },
  {
   "cell_type": "code",
   "execution_count": 97,
   "metadata": {},
   "outputs": [
    {
     "name": "stdout",
     "output_type": "stream",
     "text": [
      "\u001b[34m\n",
      "Load model 'Resnet_50_epoch' from local registry...\u001b[0m\n"
     ]
    },
    {
     "ename": "OSError",
     "evalue": "Unable to open file (file signature not found)",
     "output_type": "error",
     "traceback": [
      "\u001b[0;31m---------------------------------------------------------------------------\u001b[0m",
      "\u001b[0;31mOSError\u001b[0m                                   Traceback (most recent call last)",
      "\u001b[1;32m/Users/jihedchouaref/Faskerrr/Doggos-101/notebooks/test_predict.ipynb Cell 10\u001b[0m in \u001b[0;36m2\n\u001b[1;32m      <a href='vscode-notebook-cell:/Users/jihedchouaref/Faskerrr/Doggos-101/notebooks/test_predict.ipynb#X23sZmlsZQ%3D%3D?line=0'>1</a>\u001b[0m my_model \u001b[39m=\u001b[39m \u001b[39m\"\u001b[39m\u001b[39mResnet_50_epoch\u001b[39m\u001b[39m\"\u001b[39m\n\u001b[0;32m----> <a href='vscode-notebook-cell:/Users/jihedchouaref/Faskerrr/Doggos-101/notebooks/test_predict.ipynb#X23sZmlsZQ%3D%3D?line=1'>2</a>\u001b[0m selected_model \u001b[39m=\u001b[39m load_selected_model(my_model, loading_method\u001b[39m=\u001b[39;49m\u001b[39m\"\u001b[39;49m\u001b[39mlocal\u001b[39;49m\u001b[39m\"\u001b[39;49m)\n\u001b[1;32m      <a href='vscode-notebook-cell:/Users/jihedchouaref/Faskerrr/Doggos-101/notebooks/test_predict.ipynb#X23sZmlsZQ%3D%3D?line=2'>3</a>\u001b[0m selected_model \u001b[39m=\u001b[39m compile_model(selected_model)\n",
      "File \u001b[0;32m~/Faskerrr/Doggos-101/dogs_prediction/DL_logic/registry.py:61\u001b[0m, in \u001b[0;36mload_selected_model\u001b[0;34m(model_name, loading_method)\u001b[0m\n\u001b[1;32m     59\u001b[0m     \u001b[39mreturn\u001b[39;00m \u001b[39mNone\u001b[39;00m\n\u001b[1;32m     60\u001b[0m \u001b[39melse\u001b[39;00m:\n\u001b[0;32m---> 61\u001b[0m     model \u001b[39m=\u001b[39m keras_load_model(model_path, \u001b[39mcompile\u001b[39;49m\u001b[39m=\u001b[39;49m\u001b[39mFalse\u001b[39;49;00m)\n\u001b[1;32m     62\u001b[0m     \u001b[39mprint\u001b[39m(\u001b[39m\"\u001b[39m\u001b[39m✅ Model loaded from local\u001b[39m\u001b[39m\"\u001b[39m)\n\u001b[1;32m     63\u001b[0m     \u001b[39mreturn\u001b[39;00m model\n",
      "File \u001b[0;32m~/.pyenv/versions/3.10.6/envs/lewagon/lib/python3.10/site-packages/keras/utils/traceback_utils.py:70\u001b[0m, in \u001b[0;36mfilter_traceback.<locals>.error_handler\u001b[0;34m(*args, **kwargs)\u001b[0m\n\u001b[1;32m     67\u001b[0m     filtered_tb \u001b[39m=\u001b[39m _process_traceback_frames(e\u001b[39m.\u001b[39m__traceback__)\n\u001b[1;32m     68\u001b[0m     \u001b[39m# To get the full stack trace, call:\u001b[39;00m\n\u001b[1;32m     69\u001b[0m     \u001b[39m# `tf.debugging.disable_traceback_filtering()`\u001b[39;00m\n\u001b[0;32m---> 70\u001b[0m     \u001b[39mraise\u001b[39;00m e\u001b[39m.\u001b[39mwith_traceback(filtered_tb) \u001b[39mfrom\u001b[39;00m \u001b[39mNone\u001b[39m\n\u001b[1;32m     71\u001b[0m \u001b[39mfinally\u001b[39;00m:\n\u001b[1;32m     72\u001b[0m     \u001b[39mdel\u001b[39;00m filtered_tb\n",
      "File \u001b[0;32m~/.pyenv/versions/3.10.6/envs/lewagon/lib/python3.10/site-packages/h5py/_hl/files.py:533\u001b[0m, in \u001b[0;36mFile.__init__\u001b[0;34m(self, name, mode, driver, libver, userblock_size, swmr, rdcc_nslots, rdcc_nbytes, rdcc_w0, track_order, fs_strategy, fs_persist, fs_threshold, fs_page_size, page_buf_size, min_meta_keep, min_raw_keep, locking, alignment_threshold, alignment_interval, **kwds)\u001b[0m\n\u001b[1;32m    525\u001b[0m     fapl \u001b[39m=\u001b[39m make_fapl(driver, libver, rdcc_nslots, rdcc_nbytes, rdcc_w0,\n\u001b[1;32m    526\u001b[0m                      locking, page_buf_size, min_meta_keep, min_raw_keep,\n\u001b[1;32m    527\u001b[0m                      alignment_threshold\u001b[39m=\u001b[39malignment_threshold,\n\u001b[1;32m    528\u001b[0m                      alignment_interval\u001b[39m=\u001b[39malignment_interval,\n\u001b[1;32m    529\u001b[0m                      \u001b[39m*\u001b[39m\u001b[39m*\u001b[39mkwds)\n\u001b[1;32m    530\u001b[0m     fcpl \u001b[39m=\u001b[39m make_fcpl(track_order\u001b[39m=\u001b[39mtrack_order, fs_strategy\u001b[39m=\u001b[39mfs_strategy,\n\u001b[1;32m    531\u001b[0m                      fs_persist\u001b[39m=\u001b[39mfs_persist, fs_threshold\u001b[39m=\u001b[39mfs_threshold,\n\u001b[1;32m    532\u001b[0m                      fs_page_size\u001b[39m=\u001b[39mfs_page_size)\n\u001b[0;32m--> 533\u001b[0m     fid \u001b[39m=\u001b[39m make_fid(name, mode, userblock_size, fapl, fcpl, swmr\u001b[39m=\u001b[39;49mswmr)\n\u001b[1;32m    535\u001b[0m \u001b[39mif\u001b[39;00m \u001b[39misinstance\u001b[39m(libver, \u001b[39mtuple\u001b[39m):\n\u001b[1;32m    536\u001b[0m     \u001b[39mself\u001b[39m\u001b[39m.\u001b[39m_libver \u001b[39m=\u001b[39m libver\n",
      "File \u001b[0;32m~/.pyenv/versions/3.10.6/envs/lewagon/lib/python3.10/site-packages/h5py/_hl/files.py:226\u001b[0m, in \u001b[0;36mmake_fid\u001b[0;34m(name, mode, userblock_size, fapl, fcpl, swmr)\u001b[0m\n\u001b[1;32m    224\u001b[0m     \u001b[39mif\u001b[39;00m swmr \u001b[39mand\u001b[39;00m swmr_support:\n\u001b[1;32m    225\u001b[0m         flags \u001b[39m|\u001b[39m\u001b[39m=\u001b[39m h5f\u001b[39m.\u001b[39mACC_SWMR_READ\n\u001b[0;32m--> 226\u001b[0m     fid \u001b[39m=\u001b[39m h5f\u001b[39m.\u001b[39;49mopen(name, flags, fapl\u001b[39m=\u001b[39;49mfapl)\n\u001b[1;32m    227\u001b[0m \u001b[39melif\u001b[39;00m mode \u001b[39m==\u001b[39m \u001b[39m'\u001b[39m\u001b[39mr+\u001b[39m\u001b[39m'\u001b[39m:\n\u001b[1;32m    228\u001b[0m     fid \u001b[39m=\u001b[39m h5f\u001b[39m.\u001b[39mopen(name, h5f\u001b[39m.\u001b[39mACC_RDWR, fapl\u001b[39m=\u001b[39mfapl)\n",
      "File \u001b[0;32mh5py/_objects.pyx:54\u001b[0m, in \u001b[0;36mh5py._objects.with_phil.wrapper\u001b[0;34m()\u001b[0m\n",
      "File \u001b[0;32mh5py/_objects.pyx:55\u001b[0m, in \u001b[0;36mh5py._objects.with_phil.wrapper\u001b[0;34m()\u001b[0m\n",
      "File \u001b[0;32mh5py/h5f.pyx:106\u001b[0m, in \u001b[0;36mh5py.h5f.open\u001b[0;34m()\u001b[0m\n",
      "\u001b[0;31mOSError\u001b[0m: Unable to open file (file signature not found)"
     ]
    }
   ],
   "source": [
    "my_model = \"Resnet_50_epoch\"\n",
    "selected_model = load_selected_model(my_model, loading_method=\"local\")\n",
    "selected_model = compile_model(selected_model)"
   ]
  },
  {
   "cell_type": "code",
   "execution_count": 92,
   "metadata": {},
   "outputs": [
    {
     "name": "stdout",
     "output_type": "stream",
     "text": [
      "Model: \"sequential_5\"\n",
      "_________________________________________________________________\n",
      " Layer (type)                Output Shape              Param #   \n",
      "=================================================================\n",
      " sequential_4 (Sequential)   (None, 224, 224, 3)       0         \n",
      "                                                                 \n",
      " inception_v3 (Functional)   (None, 5, 5, 2048)        21802784  \n",
      "                                                                 \n",
      " flatten_2 (Flatten)         (None, 51200)             0         \n",
      "                                                                 \n",
      " dense_6 (Dense)             (None, 100)               5120100   \n",
      "                                                                 \n",
      " dense_7 (Dense)             (None, 100)               10100     \n",
      "                                                                 \n",
      " dense_8 (Dense)             (None, 120)               12120     \n",
      "                                                                 \n",
      "=================================================================\n",
      "Total params: 26,945,104\n",
      "Trainable params: 5,142,320\n",
      "Non-trainable params: 21,802,784\n",
      "_________________________________________________________________\n"
     ]
    }
   ],
   "source": [
    "selected_model.summary()"
   ]
  },
  {
   "cell_type": "code",
   "execution_count": 93,
   "metadata": {},
   "outputs": [],
   "source": [
    "url = \"https://www.purina.co.uk/sites/default/files/2022-07/French-Bulldog.jpg\""
   ]
  },
  {
   "cell_type": "code",
   "execution_count": 94,
   "metadata": {},
   "outputs": [
    {
     "name": "stdout",
     "output_type": "stream",
     "text": [
      "✅ get image received: img=False, url_with_pic=True\n",
      "✅ got image url: https://www.purina.co.uk/sites/default/files/2022-07/French-Bulldog.jpg\n",
      "✅ image resized\n",
      "✅ Image successfully loaded\n",
      "✅ Image successfully reshaped (1, 224, 224, 3)\n",
      "✅ Model compiled\n",
      "✅ Model successfully loaded and compiled\n",
      "✅ Image successfully preprocessed (inception_v3)\n",
      "✅ Predicting breed...\n",
      "WARNING:tensorflow:5 out of the last 5 calls to <function Model.make_predict_function.<locals>.predict_function at 0x13c7b2050> triggered tf.function retracing. Tracing is expensive and the excessive number of tracings could be due to (1) creating @tf.function repeatedly in a loop, (2) passing tensors with different shapes, (3) passing Python objects instead of tensors. For (1), please define your @tf.function outside of the loop. For (2), @tf.function has reduce_retracing=True option that can avoid unnecessary retracing. For (3), please refer to https://www.tensorflow.org/guide/function#controlling_retracing and https://www.tensorflow.org/api_docs/python/tf/function for  more details.\n",
      "1/1 [==============================] - 4s 4s/step\n",
      "✅ Breed predicted\n"
     ]
    },
    {
     "data": {
      "text/plain": [
       "{'prediction': {'first': 'French_bulldog',\n",
       "  'second': 'Brabancon_griffon',\n",
       "  'third': 'Border_terrier'},\n",
       " 'score': {'first': 0.8500000238418579,\n",
       "  'second': 0.11999999731779099,\n",
       "  'third': 0.009999999776482582}}"
      ]
     },
     "execution_count": 94,
     "metadata": {},
     "output_type": "execute_result"
    }
   ],
   "source": [
    "predict_labels(selected_model, \"inception_v3\", url_with_pic=url)"
   ]
  },
  {
   "cell_type": "code",
   "execution_count": 26,
   "metadata": {},
   "outputs": [],
   "source": [
    "model_name = \"inception_model\"\n",
    "model_path = os.path.join(local_model_directory, f\"{model_name}.h5\")"
   ]
  },
  {
   "cell_type": "code",
   "execution_count": 27,
   "metadata": {},
   "outputs": [
    {
     "data": {
      "text/plain": [
       "'/Users/jihedchouaref/code/Faskerrr/Doggos-101/models/inception_model.h5'"
      ]
     },
     "execution_count": 27,
     "metadata": {},
     "output_type": "execute_result"
    }
   ],
   "source": [
    "model_path\n",
    "path = \"/Users/jihedchouaref/Faskerrr/Doggos-101/models/inception_model.h5\""
   ]
  },
  {
   "cell_type": "code",
   "execution_count": 23,
   "metadata": {},
   "outputs": [
    {
     "data": {
      "text/plain": [
       "False"
      ]
     },
     "execution_count": 23,
     "metadata": {},
     "output_type": "execute_result"
    }
   ],
   "source": [
    "import os\n",
    "\n",
    "os.path.exists(model_path)"
   ]
  },
  {
   "cell_type": "code",
   "execution_count": 24,
   "metadata": {},
   "outputs": [],
   "source": [
    "path = \"/Users/jihedchouaref/Faskerrr/Doggos-101/models/inception_model.h5\""
   ]
  },
  {
   "cell_type": "code",
   "execution_count": 28,
   "metadata": {},
   "outputs": [
    {
     "name": "stdout",
     "output_type": "stream",
     "text": [
      "False\n"
     ]
    }
   ],
   "source": [
    "print(model_path == path)"
   ]
  },
  {
   "cell_type": "code",
   "execution_count": 57,
   "metadata": {},
   "outputs": [],
   "source": [
    "from google.cloud import storage\n",
    "client = storage.Client()\n",
    "blobs = list(client.get_bucket(BUCKET_NAME).list_blobs(prefix=\"model\"))"
   ]
  },
  {
   "cell_type": "code",
   "execution_count": 58,
   "metadata": {},
   "outputs": [
    {
     "data": {
      "text/plain": [
       "[<Blob: doggos-101, models/Resnet_50_epoch.h5, 1679587907277277>,\n",
       " <Blob: doggos-101, models/inception_v3.h5, 1679587863281516>]"
      ]
     },
     "execution_count": 58,
     "metadata": {},
     "output_type": "execute_result"
    }
   ],
   "source": [
    "blobs"
   ]
  },
  {
   "cell_type": "code",
   "execution_count": 98,
   "metadata": {},
   "outputs": [],
   "source": [
    "BREED_new = ['Otterhound', 'Cocker_spaniel','Brittany_spaniel','Afghan_hound',\n",
    "         'Maltese_dog', 'Schipperke', 'Irish_setter', 'Pekinese', 'Golden_retriever',\n",
    "         'Vizsla', 'Welsh_springer_spaniel','Staffordshire_bullterrier','Border_collie',\n",
    "         'Irish_terrier','Eskimo_dog','Pug','Kelpie','Yorkshire_terrier',\n",
    "         'Tibetan_terrier','Walker_hound','Affenpinscher','Cardigan',\n",
    "         'English_springer','English_foxhound','West_highland_white_terrier',\n",
    "         'Lakeland_terrier','Rhodesian_ridgeback','Gordon_setter','Lhasa',\n",
    "         'Curly-coated_retriever','Beagle','Tibetan_mastiff','Sussex_spaniel',\n",
    "         'Saint_bernard','Toy_terrier','Standard_poodle','Bernese_mountain_dog',\n",
    "         'Pomeranian','Ibizan_hound','Redbone','Toy_poodle','Basset',\n",
    "         'Scottish_deerhound','Miniature_pinscher','Basenji','Border_terrier',\n",
    "         'Bedlington_terrier','Kerry_blue_terrier','Weimaraner','English_setter',\n",
    "         'Bluetick','Boston_bull','Italian_greyhound','Dandie_dinmont',\n",
    "         'Airedale','Irish_water_spaniel','Norfolk_terrier','Wire-haired_fox_terrier',\n",
    "         'French_bulldog','Soft-coated_wheaten_terrier','Komondor',\n",
    "         'African_hunting_dog','Siberian_husky','Newfoundland','Bouvier_des_flandres',\n",
    "         'Saluki','Shetland_sheepdog','Collie','Rottweiler','Silky_terrier',\n",
    "         'Norwegian_elkhound','Chihuahua','Leonberg','Norwich_terrier',\n",
    "         'Cairn','Boxer','Borzoi','Dhole','Samoyed','German_shepherd',\n",
    "         'Labrador_retriever','Blenheim_spaniel','Groenendael','Doberman',\n",
    "         'Great_dane','Flat-coated_retriever','Appenzeller','Shih-tzu',\n",
    "         'Japanese_spaniel','Greater_swiss_mountain_dog',\n",
    "         'Black-and-tan_coonhound','Dingo','Great_pyrenees','Whippet',\n",
    "         'Keeshond','Malinois','American_staffordshire_terrier',\n",
    "         'Mexican_hairless','Giant_schnauzer','Brabancon_griffon',\n",
    "         'Kuvasz','Miniature_poodle','Irish_wolfhound','Briard','Clumber',\n",
    "         'Standard_schnauzer','Bull_mastiff','Malamute','Sealyham_terrier',\n",
    "         'Entlebucher','Chow','Papillon','Pembroke','German_short-haired_pointer',\n",
    "         'Old_english_sheepdog','Chesapeake_bay_retriever','Scotch_terrier',\n",
    "         'Australian_terrier','Miniature_schnauzer','Bloodhound'\n",
    "         ]"
   ]
  },
  {
   "cell_type": "code",
   "execution_count": 99,
   "metadata": {},
   "outputs": [],
   "source": [
    "BREED_old = ['Chihuahua', 'Japanese_spaniel', 'Maltese_dog', 'Pekinese', 'Shih',\n",
    "         'Blenheim_spaniel', 'papillon', 'toy_terrier', 'Rhodesian_ridgeback',\n",
    "         'Afghan_hound', 'basset', 'beagle', 'bloodhound', 'bluetick', 'black',\n",
    "         'Walker_hound', 'English_foxhound', 'redbone', 'borzoi', 'Irish_wolfhound',\n",
    "         'Italian_greyhound', 'whippet', 'Ibizan_hound', 'Norwegian_elkhound',\n",
    "         'otterhound', 'Saluki', 'Scottish_deerhound', 'Weimaraner',\n",
    "         'Staffordshire_bullterrier', 'American_Staffordshire_terrier',\n",
    "         'Bedlington_terrier', 'Border_terrier', 'Kerry_blue_terrier',\n",
    "         'Irish_terrier', 'Norfolk_terrier', 'Norwich_terrier',\n",
    "         'Yorkshire_terrier', 'wire', 'Lakeland_terrier',\n",
    "         'Sealyham_terrier', 'Airedale', 'cairn', 'Australian_terrier',\n",
    "         'Dandie_Dinmont', 'Boston_bull', 'miniature_schnauzer',\n",
    "         'giant_schnauzer', 'standard_schnauzer', 'Scotch_terrier',\n",
    "         'Tibetan_terrier', 'silky_terrier', 'soft',\n",
    "         'West_Highland_white_terrier', 'Lhasa', 'flat', 'curly',\n",
    "         'golden_retriever', 'Labrador_retriever', 'Chesapeake_Bay_retriever',\n",
    "         'German_short', 'vizsla', 'English_setter', 'Irish_setter',\n",
    "         'Gordon_setter', 'Brittany_spaniel', 'clumber', 'English_springer',\n",
    "         'Welsh_springer_spaniel', 'cocker_spaniel', 'Sussex_spaniel',\n",
    "         'Irish_water_spaniel', 'kuvasz', 'schipperke', 'groenendael',\n",
    "         'malinois', 'briard', 'kelpie', 'komondor', 'Old_English_sheepdog',\n",
    "         'Shetland_sheepdog', 'collie', 'Border_collie', 'Bouvier_des_Flandres',\n",
    "         'Rottweiler', 'German_shepherd', 'Doberman', 'miniature_pinscher',\n",
    "         'Greater_Swiss_Mountain_dog', 'Bernese_mountain_dog', 'Appenzeller',\n",
    "         'EntleBucher', 'boxer', 'bull_mastiff', 'Tibetan_mastiff',\n",
    "         'French_bulldog', 'Great_Dane', 'Saint_Bernard', 'Eskimo_dog',\n",
    "         'malamute', 'Siberian_husky', 'affenpinscher', 'basenji', 'pug',\n",
    "         'Leonberg', 'Newfoundland', 'Great_Pyrenees', 'Samoyed', 'Pomeranian',\n",
    "         'chow', 'keeshond', 'Brabancon_griffon', 'Pembroke', 'Cardigan',\n",
    "         'toy_poodle', 'miniature_poodle', 'standard_poodle', 'Mexican_hairless',\n",
    "         'dingo', 'dhole', 'African_hunting_dog']"
   ]
  },
  {
   "cell_type": "code",
   "execution_count": 100,
   "metadata": {},
   "outputs": [],
   "source": [
    "# convert to lower case \n",
    "\n",
    "BREED_new_lower = [element.lower() for element in BREED_new]\n",
    "BREED_old_lower = [element.lower() for element in BREED_old]"
   ]
  },
  {
   "cell_type": "code",
   "execution_count": 101,
   "metadata": {},
   "outputs": [],
   "source": [
    "# Find the elements that are in BREED_new_lower but not in BREED_old_lower\n",
    "diff1 = set(BREED_new_lower) - set(BREED_old_lower)\n",
    "\n",
    "# Find the elements that are in BREED_old_lower but not in BREED_new_lower\n",
    "diff2 = set(BREED_old_lower) - set(BREED_new_lower)\n",
    "\n",
    "# Combine the two sets of differences\n",
    "diff = list(diff1) + list(diff2)\n"
   ]
  },
  {
   "cell_type": "code",
   "execution_count": 104,
   "metadata": {},
   "outputs": [
    {
     "name": "stdout",
     "output_type": "stream",
     "text": [
      "{'curly-coated_retriever', 'german_short-haired_pointer', 'wire-haired_fox_terrier', 'soft-coated_wheaten_terrier', 'black-and-tan_coonhound', 'shih-tzu', 'flat-coated_retriever'}\n"
     ]
    }
   ],
   "source": [
    "print(diff1)"
   ]
  },
  {
   "cell_type": "markdown",
   "metadata": {},
   "source": []
  },
  {
   "cell_type": "code",
   "execution_count": null,
   "metadata": {},
   "outputs": [],
   "source": []
  }
 ],
 "metadata": {
  "kernelspec": {
   "display_name": "lewagon",
   "language": "python",
   "name": "python3"
  },
  "language_info": {
   "codemirror_mode": {
    "name": "ipython",
    "version": 3
   },
   "file_extension": ".py",
   "mimetype": "text/x-python",
   "name": "python",
   "nbconvert_exporter": "python",
   "pygments_lexer": "ipython3",
   "version": "3.10.6"
  },
  "orig_nbformat": 4
 },
 "nbformat": 4,
 "nbformat_minor": 2
}

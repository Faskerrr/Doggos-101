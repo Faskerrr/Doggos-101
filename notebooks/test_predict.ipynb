{
 "cells": [
  {
   "cell_type": "code",
   "execution_count": 74,
   "metadata": {},
   "outputs": [
    {
     "name": "stdout",
     "output_type": "stream",
     "text": [
      "The autoreload extension is already loaded. To reload it, use:\n",
      "  %reload_ext autoreload\n"
     ]
    }
   ],
   "source": [
    "%load_ext autoreload\n",
    "%autoreload 2"
   ]
  },
  {
   "cell_type": "code",
   "execution_count": 75,
   "metadata": {},
   "outputs": [],
   "source": [
    "#from dogs_prediction.DL_logic.utils import display_images\n",
    "#dogs_prediction/DL_logic/predict.py\n",
    "from dogs_prediction.DL_logic.predict import compile_model, predict_labels\n",
    "#from dogs_prediction.DL_logic.predict import loading_method\n",
    "from  dogs_prediction.params import *\n",
    "from dogs_prediction.DL_logic.registry import load_latest_model\n",
    "from dogs_prediction.DL_logic.registry import load_selected_model"
   ]
  },
  {
   "attachments": {},
   "cell_type": "markdown",
   "metadata": {},
   "source": [
    "# Load the model"
   ]
  },
  {
   "cell_type": "code",
   "execution_count": 61,
   "metadata": {},
   "outputs": [
    {
     "data": {
      "text/plain": [
       "'local'"
      ]
     },
     "execution_count": 61,
     "metadata": {},
     "output_type": "execute_result"
    }
   ],
   "source": [
    "MODEL_TARGET"
   ]
  },
  {
   "cell_type": "code",
   "execution_count": 8,
   "metadata": {},
   "outputs": [
    {
     "name": "stdout",
     "output_type": "stream",
     "text": [
      "\u001b[34m\n",
      "Load latest model from GCS...\u001b[0m\n",
      "✅ Latest model downloaded from cloud storage\n",
      "✅ Model compiled\n"
     ]
    }
   ],
   "source": [
    "model = load_latest_model(\"gcp\")\n",
    "model = compile_model(model)"
   ]
  },
  {
   "cell_type": "code",
   "execution_count": 9,
   "metadata": {},
   "outputs": [],
   "source": [
    "url = \"https://www.purina.co.uk/sites/default/files/2022-07/French-Bulldog.jpg\""
   ]
  },
  {
   "cell_type": "code",
   "execution_count": 10,
   "metadata": {},
   "outputs": [
    {
     "name": "stdout",
     "output_type": "stream",
     "text": [
      "Model: \"sequential_2\"\n",
      "_________________________________________________________________\n",
      " Layer (type)                Output Shape              Param #   \n",
      "=================================================================\n",
      " random_flip_2 (RandomFlip)  (None, 224, 224, 3)       0         \n",
      "                                                                 \n",
      " random_rotation_2 (RandomRo  (None, 224, 224, 3)      0         \n",
      " tation)                                                         \n",
      "                                                                 \n",
      " random_zoom_2 (RandomZoom)  (None, 224, 224, 3)       0         \n",
      "                                                                 \n",
      " resnet50 (Functional)       (None, 7, 7, 2048)        23587712  \n",
      "                                                                 \n",
      " global_average_pooling2d_2   (None, 2048)             0         \n",
      " (GlobalAveragePooling2D)                                        \n",
      "                                                                 \n",
      " dense_4 (Dense)             (None, 256)               524544    \n",
      "                                                                 \n",
      " dropout_2 (Dropout)         (None, 256)               0         \n",
      "                                                                 \n",
      " dense_5 (Dense)             (None, 120)               30840     \n",
      "                                                                 \n",
      "=================================================================\n",
      "Total params: 24,143,096\n",
      "Trainable params: 555,384\n",
      "Non-trainable params: 23,587,712\n",
      "_________________________________________________________________\n"
     ]
    }
   ],
   "source": [
    "model.summary()"
   ]
  },
  {
   "cell_type": "code",
   "execution_count": 12,
   "metadata": {},
   "outputs": [
    {
     "name": "stdout",
     "output_type": "stream",
     "text": [
      "✅ get image received: img=False, url_with_pic=True\n",
      "✅ got image url: https://www.purina.co.uk/sites/default/files/2022-07/French-Bulldog.jpg\n",
      "✅ image resized\n",
      "✅ Image successfully loaded\n",
      "✅ Image successfully reshaped (1, 224, 224, 3)\n",
      "✅ Model compiled\n",
      "✅ Model successfully loaded and compiled\n",
      "✅ Image successfully preprocessed (resnet50)\n",
      "✅ Predicting breed...\n",
      "1/1 [==============================] - 2s 2s/step\n",
      "✅ Breed predicted\n"
     ]
    },
    {
     "data": {
      "text/plain": [
       "{'prediction': {'first': 'French_bulldog',\n",
       "  'second': 'pug',\n",
       "  'third': 'Brabancon_griffon'},\n",
       " 'score': {'first': 0.949999988079071,\n",
       "  'second': 0.019999999552965164,\n",
       "  'third': 0.009999999776482582}}"
      ]
     },
     "execution_count": 12,
     "metadata": {},
     "output_type": "execute_result"
    }
   ],
   "source": [
    "predict_labels(model, \"resnet50\", url_with_pic=url)"
   ]
  },
  {
   "attachments": {},
   "cell_type": "markdown",
   "metadata": {},
   "source": [
    "# Test load a selected model\n",
    "\n",
    "So we can choose between:\n",
    "- Resnet50\n",
    "- InceptionV3"
   ]
  },
  {
   "cell_type": "code",
   "execution_count": 80,
   "metadata": {},
   "outputs": [
    {
     "name": "stdout",
     "output_type": "stream",
     "text": [
      "/Users/jihedchouaref/Faskerrr/Doggos-101/dogs_prediction/DL_logic\n",
      "/Users/jihedchouaref/Faskerrr/Doggos-101/models\n",
      "\u001b[34m\n",
      "Load model 'inception_v3' from local registry...\u001b[0m\n",
      "/Users/jihedchouaref/Faskerrr/Doggos-101/models/inception_v3.h5\n",
      "✅ Model loaded from local\n",
      "✅ Model compiled\n"
     ]
    }
   ],
   "source": [
    "my_model = \"inception_v3\"\n",
    "selected_model = load_selected_model(my_model, loading_method=MODEL_TARGET)\n",
    "selected_model = compile_model(selected_model)"
   ]
  },
  {
   "cell_type": "code",
   "execution_count": 77,
   "metadata": {},
   "outputs": [
    {
     "name": "stdout",
     "output_type": "stream",
     "text": [
      "Model: \"sequential_5\"\n",
      "_________________________________________________________________\n",
      " Layer (type)                Output Shape              Param #   \n",
      "=================================================================\n",
      " sequential_4 (Sequential)   (None, 224, 224, 3)       0         \n",
      "                                                                 \n",
      " inception_v3 (Functional)   (None, 5, 5, 2048)        21802784  \n",
      "                                                                 \n",
      " flatten_2 (Flatten)         (None, 51200)             0         \n",
      "                                                                 \n",
      " dense_6 (Dense)             (None, 100)               5120100   \n",
      "                                                                 \n",
      " dense_7 (Dense)             (None, 100)               10100     \n",
      "                                                                 \n",
      " dense_8 (Dense)             (None, 120)               12120     \n",
      "                                                                 \n",
      "=================================================================\n",
      "Total params: 26,945,104\n",
      "Trainable params: 5,142,320\n",
      "Non-trainable params: 21,802,784\n",
      "_________________________________________________________________\n"
     ]
    }
   ],
   "source": [
    "selected_model.summary()"
   ]
  },
  {
   "cell_type": "code",
   "execution_count": 78,
   "metadata": {},
   "outputs": [],
   "source": [
    "url = \"https://www.purina.co.uk/sites/default/files/2022-07/French-Bulldog.jpg\""
   ]
  },
  {
   "cell_type": "code",
   "execution_count": 79,
   "metadata": {},
   "outputs": [
    {
     "name": "stdout",
     "output_type": "stream",
     "text": [
      "✅ get image received: img=False, url_with_pic=True\n",
      "✅ got image url: https://www.purina.co.uk/sites/default/files/2022-07/French-Bulldog.jpg\n",
      "✅ image resized\n",
      "✅ Image successfully loaded\n",
      "✅ Image successfully reshaped (1, 224, 224, 3)\n",
      "✅ Model compiled\n",
      "✅ Model successfully loaded and compiled\n",
      "✅ Image successfully preprocessed (inception_v3)\n",
      "✅ Predicting breed...\n",
      "1/1 [==============================] - 4s 4s/step\n",
      "✅ Breed predicted\n"
     ]
    },
    {
     "data": {
      "text/plain": [
       "{'prediction': {'first': 'French_bulldog',\n",
       "  'second': 'Brabancon_griffon',\n",
       "  'third': 'Border_terrier'},\n",
       " 'score': {'first': 0.8500000238418579,\n",
       "  'second': 0.11999999731779099,\n",
       "  'third': 0.009999999776482582}}"
      ]
     },
     "execution_count": 79,
     "metadata": {},
     "output_type": "execute_result"
    }
   ],
   "source": [
    "predict_labels(selected_model, \"inception_v3\", url_with_pic=url)"
   ]
  },
  {
   "cell_type": "code",
   "execution_count": 26,
   "metadata": {},
   "outputs": [],
   "source": [
    "model_name = \"inception_model\"\n",
    "model_path = os.path.join(local_model_directory, f\"{model_name}.h5\")"
   ]
  },
  {
   "cell_type": "code",
   "execution_count": 27,
   "metadata": {},
   "outputs": [
    {
     "data": {
      "text/plain": [
       "'/Users/jihedchouaref/code/Faskerrr/Doggos-101/models/inception_model.h5'"
      ]
     },
     "execution_count": 27,
     "metadata": {},
     "output_type": "execute_result"
    }
   ],
   "source": [
    "model_path\n",
    "path = \"/Users/jihedchouaref/Faskerrr/Doggos-101/models/inception_model.h5\""
   ]
  },
  {
   "cell_type": "code",
   "execution_count": 23,
   "metadata": {},
   "outputs": [
    {
     "data": {
      "text/plain": [
       "False"
      ]
     },
     "execution_count": 23,
     "metadata": {},
     "output_type": "execute_result"
    }
   ],
   "source": [
    "import os\n",
    "\n",
    "os.path.exists(model_path)"
   ]
  },
  {
   "cell_type": "code",
   "execution_count": 24,
   "metadata": {},
   "outputs": [],
   "source": [
    "path = \"/Users/jihedchouaref/Faskerrr/Doggos-101/models/inception_model.h5\""
   ]
  },
  {
   "cell_type": "code",
   "execution_count": 28,
   "metadata": {},
   "outputs": [
    {
     "name": "stdout",
     "output_type": "stream",
     "text": [
      "False\n"
     ]
    }
   ],
   "source": [
    "print(model_path == path)"
   ]
  },
  {
   "cell_type": "code",
   "execution_count": 57,
   "metadata": {},
   "outputs": [],
   "source": [
    "from google.cloud import storage\n",
    "client = storage.Client()\n",
    "blobs = list(client.get_bucket(BUCKET_NAME).list_blobs(prefix=\"model\"))"
   ]
  },
  {
   "cell_type": "code",
   "execution_count": 58,
   "metadata": {},
   "outputs": [
    {
     "data": {
      "text/plain": [
       "[<Blob: doggos-101, models/Resnet_50_epoch.h5, 1679587907277277>,\n",
       " <Blob: doggos-101, models/inception_v3.h5, 1679587863281516>]"
      ]
     },
     "execution_count": 58,
     "metadata": {},
     "output_type": "execute_result"
    }
   ],
   "source": [
    "blobs"
   ]
  },
  {
   "cell_type": "code",
   "execution_count": null,
   "metadata": {},
   "outputs": [],
   "source": []
  }
 ],
 "metadata": {
  "kernelspec": {
   "display_name": "lewagon",
   "language": "python",
   "name": "python3"
  },
  "language_info": {
   "codemirror_mode": {
    "name": "ipython",
    "version": 3
   },
   "file_extension": ".py",
   "mimetype": "text/x-python",
   "name": "python",
   "nbconvert_exporter": "python",
   "pygments_lexer": "ipython3",
   "version": "3.10.6"
  },
  "orig_nbformat": 4
 },
 "nbformat": 4,
 "nbformat_minor": 2
}

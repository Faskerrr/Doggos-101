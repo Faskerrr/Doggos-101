{
 "cells": [
  {
   "cell_type": "markdown",
   "metadata": {},
   "source": [
    "# 1. Libraries"
   ]
  },
  {
   "cell_type": "code",
   "execution_count": 2,
   "metadata": {},
   "outputs": [],
   "source": [
    "import re \n",
    "import pandas as pd\n",
    "import numpy as np\n",
    "import matplotlib.pyplot as plt\n",
    "import seaborn as sns\n",
    "import os\n",
    "import sys\n",
    "import glob\n"
   ]
  },
  {
   "attachments": {},
   "cell_type": "markdown",
   "metadata": {},
   "source": [
    "# 2. Exploring the dataset\n",
    "\n",
    "- print some of the images\n",
    "- print the labels\n",
    "- print the number of images in the dataset\n",
    "- print the number of labels in the dataset\n",
    "- print the number of images per label\n"
   ]
  },
  {
   "attachments": {},
   "cell_type": "markdown",
   "metadata": {},
   "source": [
    "### 1) Load the data"
   ]
  },
  {
   "cell_type": "code",
   "execution_count": 5,
   "metadata": {},
   "outputs": [
    {
     "name": "stdout",
     "output_type": "stream",
     "text": [
      "n02085620_4700.jpg\n",
      "n02085620_712.jpg\n",
      "n02085620_9351.jpg\n",
      "n02085620_1916.jpg\n",
      "n02085620_2614.jpg\n",
      "n02085620_3093.jpg\n",
      "n02085620_4515.jpg\n",
      "n02085620_3681.jpg\n",
      "n02085620_275.jpg\n",
      "n02085620_473.jpg\n",
      "n02085620_4266.jpg\n",
      "n02085620_3928.jpg\n",
      "n02085620_11238.jpg\n",
      "n02085620_477.jpg\n",
      "n02085620_9357.jpg\n",
      "n02085620_4673.jpg\n",
      "n02085620_12334.jpg\n",
      "n02085620_1455.jpg\n",
      "n02085620_500.jpg\n",
      "n02085620_3651.jpg\n",
      "n02085620_2981.jpg\n",
      "n02085620_10976.jpg\n",
      "n02085620_3838.jpg\n",
      "n02085620_2887.jpg\n",
      "n02085620_3423.jpg\n",
      "n02085620_9654.jpg\n",
      "n02085620_1816.jpg\n",
      "n02085620_8611.jpg\n",
      "n02085620_3208.jpg\n",
      "n02085620_574.jpg\n",
      "n02085620_2507.jpg\n",
      "n02085620_575.jpg\n",
      "n02085620_4572.jpg\n",
      "n02085620_4980.jpg\n",
      "n02085620_1152.jpg\n",
      "n02085620_4016.jpg\n",
      "n02085620_7292.jpg\n",
      "n02085620_11258.jpg\n",
      "n02085620_1346.jpg\n",
      "n02085620_8558.jpg\n",
      "n02085620_952.jpg\n",
      "n02085620_7440.jpg\n",
      "n02085620_1569.jpg\n",
      "n02085620_2706.jpg\n",
      "n02085620_2921.jpg\n",
      "n02085620_3593.jpg\n",
      "n02085620_10621.jpg\n",
      "n02085620_199.jpg\n",
      "n02085620_3975.jpg\n",
      "n02085620_8636.jpg\n",
      "n02085620_3763.jpg\n",
      "n02085620_5312.jpg\n",
      "n02085620_382.jpg\n",
      "n02085620_8420.jpg\n",
      "n02085620_1558.jpg\n",
      "n02085620_14516.jpg\n",
      "n02085620_368.jpg\n",
      "n02085620_8637.jpg\n",
      "n02085620_5661.jpg\n",
      "n02085620_7738.jpg\n",
      "n02085620_949.jpg\n",
      "n02085620_2053.jpg\n",
      "n02085620_5927.jpg\n",
      "n02085620_431.jpg\n",
      "n02085620_4998.jpg\n",
      "n02085620_3942.jpg\n",
      "n02085620_8585.jpg\n",
      "n02085620_3407.jpg\n",
      "n02085620_2903.jpg\n",
      "n02085620_7700.jpg\n",
      "n02085620_2693.jpg\n",
      "n02085620_1617.jpg\n",
      "n02085620_4814.jpg\n",
      "n02085620_7.jpg\n",
      "n02085620_2479.jpg\n",
      "n02085620_11948.jpg\n",
      "n02085620_2973.jpg\n",
      "n02085620_242.jpg\n",
      "n02085620_11140.jpg\n",
      "n02085620_3488.jpg\n",
      "n02085620_13151.jpg\n",
      "n02085620_7613.jpg\n",
      "n02085620_9399.jpg\n",
      "n02085620_3677.jpg\n",
      "n02085620_9414.jpg\n",
      "n02085620_3110.jpg\n",
      "n02085620_4441.jpg\n",
      "n02085620_4290.jpg\n",
      "n02085620_14413.jpg\n",
      "n02085620_1298.jpg\n",
      "n02085620_735.jpg\n",
      "n02085620_4875.jpg\n",
      "n02085620_8491.jpg\n",
      "n02085620_1502.jpg\n",
      "n02085620_12101.jpg\n",
      "n02085620_2208.jpg\n",
      "n02085620_3880.jpg\n",
      "n02085620_5771.jpg\n",
      "n02085620_2793.jpg\n",
      "n02085620_326.jpg\n"
     ]
    }
   ],
   "source": [
    "# loading images of chihuahua \n",
    "path = \"/Users/jihedchouaref/code/JihedC/projects/Doggos-101/raw_data/cropped/cropped/train/\"\n",
    "os.chdir(path)\n",
    "\n",
    "for file in glob.glob(\"*.jpg\"):\n",
    "    print(file)"
   ]
  },
  {
   "attachments": {},
   "cell_type": "markdown",
   "metadata": {},
   "source": [
    "Y is the label of the image, I can find it in the name of the folders.\n",
    "\n",
    "If I can list of the folers in the dataset, I can get the labels using regular expressions.\n",
    "\n"
   ]
  },
  {
   "cell_type": "code",
   "execution_count": 9,
   "metadata": {},
   "outputs": [
    {
     "name": "stdout",
     "output_type": "stream",
     "text": [
      "['/Users/jihedchouaref/code/JihedC/projects/Doggos-101/raw_data/cropped/cropped/train/', '/Users/jihedchouaref/code/JihedC/projects/Doggos-101/raw_data/cropped/cropped/train/n02097658-silky_terrier', '/Users/jihedchouaref/code/JihedC/projects/Doggos-101/raw_data/cropped/cropped/train/n02092002-Scottish_deerhound', '/Users/jihedchouaref/code/JihedC/projects/Doggos-101/raw_data/cropped/cropped/train/n02099849-Chesapeake_Bay_retriever', '/Users/jihedchouaref/code/JihedC/projects/Doggos-101/raw_data/cropped/cropped/train/n02091244-Ibizan_hound', '/Users/jihedchouaref/code/JihedC/projects/Doggos-101/raw_data/cropped/cropped/train/n02095314-wire-haired_fox_terrier', '/Users/jihedchouaref/code/JihedC/projects/Doggos-101/raw_data/cropped/cropped/train/n02091831-Saluki', '/Users/jihedchouaref/code/JihedC/projects/Doggos-101/raw_data/cropped/cropped/train/n02102318-cocker_spaniel', '/Users/jihedchouaref/code/JihedC/projects/Doggos-101/raw_data/cropped/cropped/train/n02104365-schipperke', '/Users/jihedchouaref/code/JihedC/projects/Doggos-101/raw_data/cropped/cropped/train/n02090622-borzoi', '/Users/jihedchouaref/code/JihedC/projects/Doggos-101/raw_data/cropped/cropped/train/n02113023-Pembroke', '/Users/jihedchouaref/code/JihedC/projects/Doggos-101/raw_data/cropped/cropped/train/n02105505-komondor', '/Users/jihedchouaref/code/JihedC/projects/Doggos-101/raw_data/cropped/cropped/train/n02093256-Staffordshire_bullterrier', '/Users/jihedchouaref/code/JihedC/projects/Doggos-101/raw_data/cropped/cropped/train/n02113799-standard_poodle', '/Users/jihedchouaref/code/JihedC/projects/Doggos-101/raw_data/cropped/cropped/train/n02109961-Eskimo_dog', '/Users/jihedchouaref/code/JihedC/projects/Doggos-101/raw_data/cropped/cropped/train/n02089973-English_foxhound', '/Users/jihedchouaref/code/JihedC/projects/Doggos-101/raw_data/cropped/cropped/train/n02099601-golden_retriever', '/Users/jihedchouaref/code/JihedC/projects/Doggos-101/raw_data/cropped/cropped/train/n02095889-Sealyham_terrier', '/Users/jihedchouaref/code/JihedC/projects/Doggos-101/raw_data/cropped/cropped/train/n02085782-Japanese_spaniel', '/Users/jihedchouaref/code/JihedC/projects/Doggos-101/raw_data/cropped/cropped/train/n02097047-miniature_schnauzer', '/Users/jihedchouaref/code/JihedC/projects/Doggos-101/raw_data/cropped/cropped/train/n02110063-malamute', '/Users/jihedchouaref/code/JihedC/projects/Doggos-101/raw_data/cropped/cropped/train/n02105162-malinois', '/Users/jihedchouaref/code/JihedC/projects/Doggos-101/raw_data/cropped/cropped/train/n02086079-Pekinese', '/Users/jihedchouaref/code/JihedC/projects/Doggos-101/raw_data/cropped/cropped/train/n02097130-giant_schnauzer', '/Users/jihedchouaref/code/JihedC/projects/Doggos-101/raw_data/cropped/cropped/train/n02113978-Mexican_hairless', '/Users/jihedchouaref/code/JihedC/projects/Doggos-101/raw_data/cropped/cropped/train/n02107142-Doberman', '/Users/jihedchouaref/code/JihedC/projects/Doggos-101/raw_data/cropped/cropped/train/n02097209-standard_schnauzer', '/Users/jihedchouaref/code/JihedC/projects/Doggos-101/raw_data/cropped/cropped/train/n02115913-dhole', '/Users/jihedchouaref/code/JihedC/projects/Doggos-101/raw_data/cropped/cropped/train/n02106662-German_shepherd', '/Users/jihedchouaref/code/JihedC/projects/Doggos-101/raw_data/cropped/cropped/train/n02106382-Bouvier_des_Flandres', '/Users/jihedchouaref/code/JihedC/projects/Doggos-101/raw_data/cropped/cropped/train/n02110185-Siberian_husky', '/Users/jihedchouaref/code/JihedC/projects/Doggos-101/raw_data/cropped/cropped/train/n02094258-Norwich_terrier', '/Users/jihedchouaref/code/JihedC/projects/Doggos-101/raw_data/cropped/cropped/train/n02093991-Irish_terrier', '/Users/jihedchouaref/code/JihedC/projects/Doggos-101/raw_data/cropped/cropped/train/n02094114-Norfolk_terrier', '/Users/jihedchouaref/code/JihedC/projects/Doggos-101/raw_data/cropped/cropped/train/n02109525-Saint_Bernard', '/Users/jihedchouaref/code/JihedC/projects/Doggos-101/raw_data/cropped/cropped/train/n02093754-Border_terrier', '/Users/jihedchouaref/code/JihedC/projects/Doggos-101/raw_data/cropped/cropped/train/n02105251-briard', '/Users/jihedchouaref/code/JihedC/projects/Doggos-101/raw_data/cropped/cropped/train/n02108551-Tibetan_mastiff', '/Users/jihedchouaref/code/JihedC/projects/Doggos-101/raw_data/cropped/cropped/train/n02108422-bull_mastiff', '/Users/jihedchouaref/code/JihedC/projects/Doggos-101/raw_data/cropped/cropped/train/n02085936-Maltese_dog', '/Users/jihedchouaref/code/JihedC/projects/Doggos-101/raw_data/cropped/cropped/train/n02093859-Kerry_blue_terrier', '/Users/jihedchouaref/code/JihedC/projects/Doggos-101/raw_data/cropped/cropped/train/n02104029-kuvasz', '/Users/jihedchouaref/code/JihedC/projects/Doggos-101/raw_data/cropped/cropped/train/n02107574-Greater_Swiss_Mountain_dog', '/Users/jihedchouaref/code/JihedC/projects/Doggos-101/raw_data/cropped/cropped/train/n02095570-Lakeland_terrier', '/Users/jihedchouaref/code/JihedC/projects/Doggos-101/raw_data/cropped/cropped/train/n02086646-Blenheim_spaniel', '/Users/jihedchouaref/code/JihedC/projects/Doggos-101/raw_data/cropped/cropped/train/n02088238-basset', '/Users/jihedchouaref/code/JihedC/projects/Doggos-101/raw_data/cropped/cropped/train/n02098286-West_Highland_white_terrier', '/Users/jihedchouaref/code/JihedC/projects/Doggos-101/raw_data/cropped/cropped/train/n02085620-Chihuahua', '/Users/jihedchouaref/code/JihedC/projects/Doggos-101/raw_data/cropped/cropped/train/n02106166-Border_collie', '/Users/jihedchouaref/code/JihedC/projects/Doggos-101/raw_data/cropped/cropped/train/n02090379-redbone', '/Users/jihedchouaref/code/JihedC/projects/Doggos-101/raw_data/cropped/cropped/train/n02090721-Irish_wolfhound', '/Users/jihedchouaref/code/JihedC/projects/Doggos-101/raw_data/cropped/cropped/train/n02088632-bluetick', '/Users/jihedchouaref/code/JihedC/projects/Doggos-101/raw_data/cropped/cropped/train/n02113712-miniature_poodle', '/Users/jihedchouaref/code/JihedC/projects/Doggos-101/raw_data/cropped/cropped/train/n02113186-Cardigan', '/Users/jihedchouaref/code/JihedC/projects/Doggos-101/raw_data/cropped/cropped/train/n02108000-EntleBucher', '/Users/jihedchouaref/code/JihedC/projects/Doggos-101/raw_data/cropped/cropped/train/n02091467-Norwegian_elkhound', '/Users/jihedchouaref/code/JihedC/projects/Doggos-101/raw_data/cropped/cropped/train/n02100236-German_short-haired_pointer', '/Users/jihedchouaref/code/JihedC/projects/Doggos-101/raw_data/cropped/cropped/train/n02107683-Bernese_mountain_dog', '/Users/jihedchouaref/code/JihedC/projects/Doggos-101/raw_data/cropped/cropped/train/n02086910-papillon', '/Users/jihedchouaref/code/JihedC/projects/Doggos-101/raw_data/cropped/cropped/train/n02097474-Tibetan_terrier', '/Users/jihedchouaref/code/JihedC/projects/Doggos-101/raw_data/cropped/cropped/train/n02101006-Gordon_setter', '/Users/jihedchouaref/code/JihedC/projects/Doggos-101/raw_data/cropped/cropped/train/n02093428-American_Staffordshire_terrier', '/Users/jihedchouaref/code/JihedC/projects/Doggos-101/raw_data/cropped/cropped/train/n02100583-vizsla', '/Users/jihedchouaref/code/JihedC/projects/Doggos-101/raw_data/cropped/cropped/train/n02105412-kelpie', '/Users/jihedchouaref/code/JihedC/projects/Doggos-101/raw_data/cropped/cropped/train/n02092339-Weimaraner', '/Users/jihedchouaref/code/JihedC/projects/Doggos-101/raw_data/cropped/cropped/train/n02107312-miniature_pinscher', '/Users/jihedchouaref/code/JihedC/projects/Doggos-101/raw_data/cropped/cropped/train/n02108089-boxer', '/Users/jihedchouaref/code/JihedC/projects/Doggos-101/raw_data/cropped/cropped/train/n02112137-chow', '/Users/jihedchouaref/code/JihedC/projects/Doggos-101/raw_data/cropped/cropped/train/n02105641-Old_English_sheepdog', '/Users/jihedchouaref/code/JihedC/projects/Doggos-101/raw_data/cropped/cropped/train/n02110958-pug', '/Users/jihedchouaref/code/JihedC/projects/Doggos-101/raw_data/cropped/cropped/train/n02087394-Rhodesian_ridgeback', '/Users/jihedchouaref/code/JihedC/projects/Doggos-101/raw_data/cropped/cropped/train/n02097298-Scotch_terrier', '/Users/jihedchouaref/code/JihedC/projects/Doggos-101/raw_data/cropped/cropped/train/n02086240-Shih-Tzu', '/Users/jihedchouaref/code/JihedC/projects/Doggos-101/raw_data/cropped/cropped/train/n02110627-affenpinscher', '/Users/jihedchouaref/code/JihedC/projects/Doggos-101/raw_data/cropped/cropped/train/n02091134-whippet', '/Users/jihedchouaref/code/JihedC/projects/Doggos-101/raw_data/cropped/cropped/train/n02102480-Sussex_spaniel', '/Users/jihedchouaref/code/JihedC/projects/Doggos-101/raw_data/cropped/cropped/train/n02091635-otterhound', '/Users/jihedchouaref/code/JihedC/projects/Doggos-101/raw_data/cropped/cropped/train/n02099267-flat-coated_retriever', '/Users/jihedchouaref/code/JihedC/projects/Doggos-101/raw_data/cropped/cropped/train/n02100735-English_setter', '/Users/jihedchouaref/code/JihedC/projects/Doggos-101/raw_data/cropped/cropped/train/n02091032-Italian_greyhound', '/Users/jihedchouaref/code/JihedC/projects/Doggos-101/raw_data/cropped/cropped/train/n02099712-Labrador_retriever', '/Users/jihedchouaref/code/JihedC/projects/Doggos-101/raw_data/cropped/cropped/train/n02106030-collie', '/Users/jihedchouaref/code/JihedC/projects/Doggos-101/raw_data/cropped/cropped/train/n02096177-cairn', '/Users/jihedchouaref/code/JihedC/projects/Doggos-101/raw_data/cropped/cropped/train/n02106550-Rottweiler', '/Users/jihedchouaref/code/JihedC/projects/Doggos-101/raw_data/cropped/cropped/train/n02096294-Australian_terrier', '/Users/jihedchouaref/code/JihedC/projects/Doggos-101/raw_data/cropped/cropped/train/n02087046-toy_terrier', '/Users/jihedchouaref/code/JihedC/projects/Doggos-101/raw_data/cropped/cropped/train/n02105855-Shetland_sheepdog', '/Users/jihedchouaref/code/JihedC/projects/Doggos-101/raw_data/cropped/cropped/train/n02116738-African_hunting_dog', '/Users/jihedchouaref/code/JihedC/projects/Doggos-101/raw_data/cropped/cropped/train/n02111277-Newfoundland', '/Users/jihedchouaref/code/JihedC/projects/Doggos-101/raw_data/cropped/cropped/train/n02089867-Walker_hound', '/Users/jihedchouaref/code/JihedC/projects/Doggos-101/raw_data/cropped/cropped/train/n02098413-Lhasa', '/Users/jihedchouaref/code/JihedC/projects/Doggos-101/raw_data/cropped/cropped/train/n02088364-beagle', '/Users/jihedchouaref/code/JihedC/projects/Doggos-101/raw_data/cropped/cropped/train/n02111889-Samoyed', '/Users/jihedchouaref/code/JihedC/projects/Doggos-101/raw_data/cropped/cropped/train/n02109047-Great_Dane', '/Users/jihedchouaref/code/JihedC/projects/Doggos-101/raw_data/cropped/cropped/train/n02096051-Airedale', '/Users/jihedchouaref/code/JihedC/projects/Doggos-101/raw_data/cropped/cropped/train/n02088466-bloodhound', '/Users/jihedchouaref/code/JihedC/projects/Doggos-101/raw_data/cropped/cropped/train/n02100877-Irish_setter', '/Users/jihedchouaref/code/JihedC/projects/Doggos-101/raw_data/cropped/cropped/train/n02112350-keeshond', '/Users/jihedchouaref/code/JihedC/projects/Doggos-101/raw_data/cropped/cropped/train/n02096437-Dandie_Dinmont', '/Users/jihedchouaref/code/JihedC/projects/Doggos-101/raw_data/cropped/cropped/train/n02110806-basenji', '/Users/jihedchouaref/code/JihedC/projects/Doggos-101/raw_data/cropped/cropped/train/n02093647-Bedlington_terrier', '/Users/jihedchouaref/code/JihedC/projects/Doggos-101/raw_data/cropped/cropped/train/n02107908-Appenzeller', '/Users/jihedchouaref/code/JihedC/projects/Doggos-101/raw_data/cropped/cropped/train/n02101556-clumber', '/Users/jihedchouaref/code/JihedC/projects/Doggos-101/raw_data/cropped/cropped/train/n02113624-toy_poodle', '/Users/jihedchouaref/code/JihedC/projects/Doggos-101/raw_data/cropped/cropped/train/n02111500-Great_Pyrenees', '/Users/jihedchouaref/code/JihedC/projects/Doggos-101/raw_data/cropped/cropped/train/n02102040-English_springer', '/Users/jihedchouaref/code/JihedC/projects/Doggos-101/raw_data/cropped/cropped/train/n02088094-Afghan_hound', '/Users/jihedchouaref/code/JihedC/projects/Doggos-101/raw_data/cropped/cropped/train/n02101388-Brittany_spaniel', '/Users/jihedchouaref/code/JihedC/projects/Doggos-101/raw_data/cropped/cropped/train/n02102177-Welsh_springer_spaniel', '/Users/jihedchouaref/code/JihedC/projects/Doggos-101/raw_data/cropped/cropped/train/n02096585-Boston_bull', '/Users/jihedchouaref/code/JihedC/projects/Doggos-101/raw_data/cropped/cropped/train/n02115641-dingo', '/Users/jihedchouaref/code/JihedC/projects/Doggos-101/raw_data/cropped/cropped/train/n02098105-soft-coated_wheaten_terrier', '/Users/jihedchouaref/code/JihedC/projects/Doggos-101/raw_data/cropped/cropped/train/n02099429-curly-coated_retriever', '/Users/jihedchouaref/code/JihedC/projects/Doggos-101/raw_data/cropped/cropped/train/n02108915-French_bulldog', '/Users/jihedchouaref/code/JihedC/projects/Doggos-101/raw_data/cropped/cropped/train/n02102973-Irish_water_spaniel', '/Users/jihedchouaref/code/JihedC/projects/Doggos-101/raw_data/cropped/cropped/train/n02112018-Pomeranian', '/Users/jihedchouaref/code/JihedC/projects/Doggos-101/raw_data/cropped/cropped/train/n02112706-Brabancon_griffon', '/Users/jihedchouaref/code/JihedC/projects/Doggos-101/raw_data/cropped/cropped/train/n02094433-Yorkshire_terrier', '/Users/jihedchouaref/code/JihedC/projects/Doggos-101/raw_data/cropped/cropped/train/n02105056-groenendael', '/Users/jihedchouaref/code/JihedC/projects/Doggos-101/raw_data/cropped/cropped/train/n02111129-Leonberg', '/Users/jihedchouaref/code/JihedC/projects/Doggos-101/raw_data/cropped/cropped/train/n02089078-black-and-tan_coonhound']\n"
     ]
    }
   ],
   "source": [
    "import os\n",
    "subdirs = [x[0] for x in os.walk('/Users/jihedchouaref/code/JihedC/projects/Doggos-101/raw_data/cropped/cropped/train/')]\n",
    "print(subdirs)"
   ]
  },
  {
   "attachments": {},
   "cell_type": "markdown",
   "metadata": {},
   "source": [
    "# 3. Preprocessing the dataset\n",
    "\n",
    "- Normalize the images, we have RGB images, so we need to normalize each channel\n",
    "- Do we need to center the images?\n",
    "- Wthat is the shape of the dataset?\n",
    "- Do we need to expland the dimensions? \n",
    "- How do we categorize the labels?\n",
    "- Do we need data augmentation?\n",
    "\n",
    "I don't think so because we did the expansion, when working with Black and white images."
   ]
  },
  {
   "attachments": {},
   "cell_type": "markdown",
   "metadata": {},
   "source": [
    "# 4. The convulutional neural network\n",
    "\n",
    "\n",
    "- We want to test trained model\n",
    "- It would be nice to make a function that take the model and the dataset and return the accuracy\n"
   ]
  },
  {
   "attachments": {},
   "cell_type": "markdown",
   "metadata": {},
   "source": [
    "# 5. Fit the model\n",
    "\n",
    "- We need to evaluate the model\n",
    "- What plots do we need for the evaluation?"
   ]
  },
  {
   "attachments": {},
   "cell_type": "markdown",
   "metadata": {},
   "source": [
    "# 6. Improve the model"
   ]
  },
  {
   "cell_type": "markdown",
   "metadata": {},
   "source": []
  }
 ],
 "metadata": {
  "kernelspec": {
   "display_name": "lewagon",
   "language": "python",
   "name": "python3"
  },
  "language_info": {
   "codemirror_mode": {
    "name": "ipython",
    "version": 3
   },
   "file_extension": ".py",
   "mimetype": "text/x-python",
   "name": "python",
   "nbconvert_exporter": "python",
   "pygments_lexer": "ipython3",
   "version": "3.10.6"
  },
  "orig_nbformat": 4
 },
 "nbformat": 4,
 "nbformat_minor": 2
}

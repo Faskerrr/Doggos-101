{
  "cells": [
    {
      "cell_type": "markdown",
      "source": [
        "## Colab setup"
      ],
      "metadata": {
        "id": "Q21Ik-iVVsaQ"
      },
      "id": "Q21Ik-iVVsaQ"
    },
    {
      "cell_type": "code",
      "source": [
        "from google.colab import files\n",
        "files.upload()"
      ],
      "metadata": {
        "colab": {
          "base_uri": "https://localhost:8080/",
          "height": 90
        },
        "id": "O-aOicNvJCKO",
        "outputId": "8acb91d5-6cc8-4666-ce11-2ffab648a84a"
      },
      "id": "O-aOicNvJCKO",
      "execution_count": 8,
      "outputs": [
        {
          "output_type": "display_data",
          "data": {
            "text/plain": [
              "<IPython.core.display.HTML object>"
            ],
            "text/html": [
              "\n",
              "     <input type=\"file\" id=\"files-99b04a15-1690-49a6-b82e-3a1c925b0782\" name=\"files[]\" multiple disabled\n",
              "        style=\"border:none\" />\n",
              "     <output id=\"result-99b04a15-1690-49a6-b82e-3a1c925b0782\">\n",
              "      Upload widget is only available when the cell has been executed in the\n",
              "      current browser session. Please rerun this cell to enable.\n",
              "      </output>\n",
              "      <script>// Copyright 2017 Google LLC\n",
              "//\n",
              "// Licensed under the Apache License, Version 2.0 (the \"License\");\n",
              "// you may not use this file except in compliance with the License.\n",
              "// You may obtain a copy of the License at\n",
              "//\n",
              "//      http://www.apache.org/licenses/LICENSE-2.0\n",
              "//\n",
              "// Unless required by applicable law or agreed to in writing, software\n",
              "// distributed under the License is distributed on an \"AS IS\" BASIS,\n",
              "// WITHOUT WARRANTIES OR CONDITIONS OF ANY KIND, either express or implied.\n",
              "// See the License for the specific language governing permissions and\n",
              "// limitations under the License.\n",
              "\n",
              "/**\n",
              " * @fileoverview Helpers for google.colab Python module.\n",
              " */\n",
              "(function(scope) {\n",
              "function span(text, styleAttributes = {}) {\n",
              "  const element = document.createElement('span');\n",
              "  element.textContent = text;\n",
              "  for (const key of Object.keys(styleAttributes)) {\n",
              "    element.style[key] = styleAttributes[key];\n",
              "  }\n",
              "  return element;\n",
              "}\n",
              "\n",
              "// Max number of bytes which will be uploaded at a time.\n",
              "const MAX_PAYLOAD_SIZE = 100 * 1024;\n",
              "\n",
              "function _uploadFiles(inputId, outputId) {\n",
              "  const steps = uploadFilesStep(inputId, outputId);\n",
              "  const outputElement = document.getElementById(outputId);\n",
              "  // Cache steps on the outputElement to make it available for the next call\n",
              "  // to uploadFilesContinue from Python.\n",
              "  outputElement.steps = steps;\n",
              "\n",
              "  return _uploadFilesContinue(outputId);\n",
              "}\n",
              "\n",
              "// This is roughly an async generator (not supported in the browser yet),\n",
              "// where there are multiple asynchronous steps and the Python side is going\n",
              "// to poll for completion of each step.\n",
              "// This uses a Promise to block the python side on completion of each step,\n",
              "// then passes the result of the previous step as the input to the next step.\n",
              "function _uploadFilesContinue(outputId) {\n",
              "  const outputElement = document.getElementById(outputId);\n",
              "  const steps = outputElement.steps;\n",
              "\n",
              "  const next = steps.next(outputElement.lastPromiseValue);\n",
              "  return Promise.resolve(next.value.promise).then((value) => {\n",
              "    // Cache the last promise value to make it available to the next\n",
              "    // step of the generator.\n",
              "    outputElement.lastPromiseValue = value;\n",
              "    return next.value.response;\n",
              "  });\n",
              "}\n",
              "\n",
              "/**\n",
              " * Generator function which is called between each async step of the upload\n",
              " * process.\n",
              " * @param {string} inputId Element ID of the input file picker element.\n",
              " * @param {string} outputId Element ID of the output display.\n",
              " * @return {!Iterable<!Object>} Iterable of next steps.\n",
              " */\n",
              "function* uploadFilesStep(inputId, outputId) {\n",
              "  const inputElement = document.getElementById(inputId);\n",
              "  inputElement.disabled = false;\n",
              "\n",
              "  const outputElement = document.getElementById(outputId);\n",
              "  outputElement.innerHTML = '';\n",
              "\n",
              "  const pickedPromise = new Promise((resolve) => {\n",
              "    inputElement.addEventListener('change', (e) => {\n",
              "      resolve(e.target.files);\n",
              "    });\n",
              "  });\n",
              "\n",
              "  const cancel = document.createElement('button');\n",
              "  inputElement.parentElement.appendChild(cancel);\n",
              "  cancel.textContent = 'Cancel upload';\n",
              "  const cancelPromise = new Promise((resolve) => {\n",
              "    cancel.onclick = () => {\n",
              "      resolve(null);\n",
              "    };\n",
              "  });\n",
              "\n",
              "  // Wait for the user to pick the files.\n",
              "  const files = yield {\n",
              "    promise: Promise.race([pickedPromise, cancelPromise]),\n",
              "    response: {\n",
              "      action: 'starting',\n",
              "    }\n",
              "  };\n",
              "\n",
              "  cancel.remove();\n",
              "\n",
              "  // Disable the input element since further picks are not allowed.\n",
              "  inputElement.disabled = true;\n",
              "\n",
              "  if (!files) {\n",
              "    return {\n",
              "      response: {\n",
              "        action: 'complete',\n",
              "      }\n",
              "    };\n",
              "  }\n",
              "\n",
              "  for (const file of files) {\n",
              "    const li = document.createElement('li');\n",
              "    li.append(span(file.name, {fontWeight: 'bold'}));\n",
              "    li.append(span(\n",
              "        `(${file.type || 'n/a'}) - ${file.size} bytes, ` +\n",
              "        `last modified: ${\n",
              "            file.lastModifiedDate ? file.lastModifiedDate.toLocaleDateString() :\n",
              "                                    'n/a'} - `));\n",
              "    const percent = span('0% done');\n",
              "    li.appendChild(percent);\n",
              "\n",
              "    outputElement.appendChild(li);\n",
              "\n",
              "    const fileDataPromise = new Promise((resolve) => {\n",
              "      const reader = new FileReader();\n",
              "      reader.onload = (e) => {\n",
              "        resolve(e.target.result);\n",
              "      };\n",
              "      reader.readAsArrayBuffer(file);\n",
              "    });\n",
              "    // Wait for the data to be ready.\n",
              "    let fileData = yield {\n",
              "      promise: fileDataPromise,\n",
              "      response: {\n",
              "        action: 'continue',\n",
              "      }\n",
              "    };\n",
              "\n",
              "    // Use a chunked sending to avoid message size limits. See b/62115660.\n",
              "    let position = 0;\n",
              "    do {\n",
              "      const length = Math.min(fileData.byteLength - position, MAX_PAYLOAD_SIZE);\n",
              "      const chunk = new Uint8Array(fileData, position, length);\n",
              "      position += length;\n",
              "\n",
              "      const base64 = btoa(String.fromCharCode.apply(null, chunk));\n",
              "      yield {\n",
              "        response: {\n",
              "          action: 'append',\n",
              "          file: file.name,\n",
              "          data: base64,\n",
              "        },\n",
              "      };\n",
              "\n",
              "      let percentDone = fileData.byteLength === 0 ?\n",
              "          100 :\n",
              "          Math.round((position / fileData.byteLength) * 100);\n",
              "      percent.textContent = `${percentDone}% done`;\n",
              "\n",
              "    } while (position < fileData.byteLength);\n",
              "  }\n",
              "\n",
              "  // All done.\n",
              "  yield {\n",
              "    response: {\n",
              "      action: 'complete',\n",
              "    }\n",
              "  };\n",
              "}\n",
              "\n",
              "scope.google = scope.google || {};\n",
              "scope.google.colab = scope.google.colab || {};\n",
              "scope.google.colab._files = {\n",
              "  _uploadFiles,\n",
              "  _uploadFilesContinue,\n",
              "};\n",
              "})(self);\n",
              "</script> "
            ]
          },
          "metadata": {}
        },
        {
          "output_type": "stream",
          "name": "stdout",
          "text": [
            "Saving kaggle.json to kaggle.json\n"
          ]
        },
        {
          "output_type": "execute_result",
          "data": {
            "text/plain": [
              "{'kaggle.json': b'{\"username\":\"faskerrr\",\"key\":\"b5b1c75365500c7e3c8394854d7fbb79\"}'}"
            ]
          },
          "metadata": {},
          "execution_count": 8
        }
      ]
    },
    {
      "cell_type": "code",
      "source": [
        "!rm -r ~/.kaggle\n",
        "!mkdir ~/.kaggle\n",
        "!mv ./kaggle.json ~/.kaggle/\n",
        "!chmod 600 ~/.kaggle/kaggle.json\n",
        "!kaggle datasets list"
      ],
      "metadata": {
        "colab": {
          "base_uri": "https://localhost:8080/"
        },
        "id": "FtpsczK3JCHy",
        "outputId": "5c21fdde-6112-4822-a73c-58d001b693bc"
      },
      "id": "FtpsczK3JCHy",
      "execution_count": 9,
      "outputs": [
        {
          "output_type": "stream",
          "name": "stdout",
          "text": [
            "ref                                                                title                                                size  lastUpdated          downloadCount  voteCount  usabilityRating  \n",
            "-----------------------------------------------------------------  --------------------------------------------------  -----  -------------------  -------------  ---------  ---------------  \n",
            "zusmani/pakistan-toshakhana-files                                  Pakistan ToshaKhana Files                             1MB  2023-03-15 16:25:43           2229         90  1.0              \n",
            "ramkrijal/tomato-daily-prices                                      Tomato Daily Prices                                  10KB  2023-03-10 15:39:14           1065         33  1.0              \n",
            "themrityunjaypathak/covid-cases-and-deaths-worldwide               Covid Cases and Deaths WorldWide                      8KB  2023-02-01 12:22:51          13825        465  1.0              \n",
            "datascientistanna/customers-dataset                                Shop Customer Data                                   23KB  2023-02-07 18:42:21          12160        274  1.0              \n",
            "priyankkhanna/flipkart-product-dataset-by-priyank-khanna           Flipkart Product Dataset                              2MB  2023-03-03 13:44:42            884         23  1.0              \n",
            "amaanansari09/most-streamed-songs-all-time                         Most Streamed Songs (All Time)                        8KB  2023-03-08 10:56:24           1953         55  1.0              \n",
            "utsh0dey/25k-movie-dataset                                         25k IMDb Movie Dataset                                5MB  2023-02-27 18:11:44            659         21  1.0              \n",
            "nidzsharma/covid-19-variant-data                                   COVID-19 Variant Data                                67KB  2023-03-12 14:07:53            620         24  1.0              \n",
            "rkiattisak/student-performance-in-mathematics                      Student performance prediction                        9KB  2023-03-12 04:32:56           1856         43  1.0              \n",
            "ashpalsingh1525/netflix                                            Netflix Cleaned Dataset                              86KB  2023-02-25 12:48:42            957         33  1.0              \n",
            "imrulhasanrobi/world-population-all-countries-different-parameter  World Population all countries different parameter    8KB  2023-03-16 01:24:18            429         24  1.0              \n",
            "rayhan32/la-liga-player-status-season-2022-2023                    La Liga Player Status  Season 2022-2023              14KB  2023-03-15 19:52:19            501         29  1.0              \n",
            "thedevastator/airbnb-prices-in-european-cities                     Airbnb Prices in European Cities                      4MB  2023-02-20 09:48:04           4584         84  1.0              \n",
            "mirzahasnine/loan-data-set                                         Loan Data Set                                        11KB  2023-03-12 05:02:43            843         33  0.9411765        \n",
            "mehmettahiraslan/customer-shopping-dataset                         Customer Shopping Dataset - Retail Sales Data         2MB  2023-03-09 07:44:35           1238         52  1.0              \n",
            "ulrikthygepedersen/shark-tank-companies                            Shark Tank Companies                                 70KB  2023-03-02 12:05:27            651         33  1.0              \n",
            "tarique7/airline-incidents-safety-data                             Airline Incidents Safety Data                         7MB  2023-03-08 09:28:38            519         25  1.0              \n",
            "rkiattisak/traveler-trip-data                                      Traveler Trip Dataset                                 4KB  2023-03-06 07:11:05           1175         37  1.0              \n",
            "rkiattisak/salaly-prediction-for-beginer                           Salary Prediction dataset                             3KB  2023-03-07 02:45:11           1127         38  1.0              \n",
            "abdullahshahzad12345/ref-tk-data-02-to-22                          Gift Received by Pak Officials 2002-22 Tosha Khana  120KB  2023-03-14 15:49:14            161         24  1.0              \n"
          ]
        }
      ]
    },
    {
      "cell_type": "code",
      "source": [
        "!kaggle datasets download -d miljan/stanford-dogs-dataset-traintest -p /content/dogs --unzip"
      ],
      "metadata": {
        "colab": {
          "base_uri": "https://localhost:8080/"
        },
        "id": "_cRV08EBJCFH",
        "outputId": "6278e379-4d51-4f63-aaaa-dc4476873da7"
      },
      "id": "_cRV08EBJCFH",
      "execution_count": 10,
      "outputs": [
        {
          "output_type": "stream",
          "name": "stdout",
          "text": [
            "Downloading stanford-dogs-dataset-traintest.zip to /content/dogs\n",
            "100% 392M/393M [00:15<00:00, 26.8MB/s]\n",
            "100% 393M/393M [00:15<00:00, 27.1MB/s]\n"
          ]
        }
      ]
    },
    {
      "cell_type": "code",
      "source": [
        "path = '/content/dogs/cropped/cropped/train' # path for colab data"
      ],
      "metadata": {
        "id": "19f1pw7AJB6h"
      },
      "id": "19f1pw7AJB6h",
      "execution_count": 3,
      "outputs": []
    },
    {
      "cell_type": "markdown",
      "source": [
        "## Imports"
      ],
      "metadata": {
        "id": "4tsvGPWZHxI9"
      },
      "id": "4tsvGPWZHxI9"
    },
    {
      "cell_type": "code",
      "execution_count": 2,
      "id": "56959300",
      "metadata": {
        "ExecuteTime": {
          "end_time": "2023-03-20T12:22:45.205632Z",
          "start_time": "2023-03-20T12:22:45.191985Z"
        },
        "id": "56959300"
      },
      "outputs": [],
      "source": [
        "import os,sys\n",
        "import cv2\n",
        "from tqdm import tqdm\n",
        "import re\n",
        "import random\n",
        "\n",
        "import pandas as pd\n",
        "import numpy as np\n",
        "\n",
        "import matplotlib.pyplot as plt\n",
        "\n",
        "from sklearn.preprocessing import LabelEncoder\n",
        "\n",
        "from keras.utils.np_utils import to_categorical\n"
      ]
    },
    {
      "cell_type": "markdown",
      "source": [
        "# EDA"
      ],
      "metadata": {
        "id": "Lnqn7dQYV9P6"
      },
      "id": "Lnqn7dQYV9P6"
    },
    {
      "cell_type": "markdown",
      "source": [
        "## Create X and y"
      ],
      "metadata": {
        "id": "jPJyWWdAYrYL"
      },
      "id": "jPJyWWdAYrYL"
    },
    {
      "cell_type": "code",
      "execution_count": 19,
      "id": "2f66d748",
      "metadata": {
        "ExecuteTime": {
          "end_time": "2023-03-20T12:31:54.710510Z",
          "start_time": "2023-03-20T12:31:54.703246Z"
        },
        "id": "2f66d748"
      },
      "outputs": [],
      "source": [
        "def create_x_y(label,directory):\n",
        "    for img in tqdm(os.listdir(directory)):\n",
        "        path = os.path.join(directory,img)\n",
        "        img = cv2.imread(path, cv2.IMREAD_COLOR)\n",
        "        \n",
        "        X.append(np.array(img))\n",
        "        Z.append(str(label)) # raw label"
      ]
    },
    {
      "cell_type": "code",
      "execution_count": 20,
      "id": "13788dd4",
      "metadata": {
        "ExecuteTime": {
          "end_time": "2023-03-20T12:24:03.162891Z",
          "start_time": "2023-03-20T12:24:03.131580Z"
        },
        "collapsed": true,
        "id": "13788dd4"
      },
      "outputs": [],
      "source": [
        "# path = '/Users/faskerrr/code/Faskerrr/Doggos-101/raw_data/stanford_dogs_pics/cropped/train/' # path for local data\n",
        "breeds = os.listdir(path)\n",
        "# breeds"
      ]
    },
    {
      "cell_type": "code",
      "execution_count": 22,
      "id": "ccc3734a",
      "metadata": {
        "ExecuteTime": {
          "end_time": "2023-03-20T12:24:22.375587Z",
          "start_time": "2023-03-20T12:24:22.355588Z"
        },
        "collapsed": true,
        "id": "ccc3734a"
      },
      "outputs": [],
      "source": [
        "data_dirs = [path + '/' + i + '/' for i in breeds if i != '.DS_Store']\n",
        "# data_dirs"
      ]
    },
    {
      "cell_type": "code",
      "execution_count": 23,
      "id": "02bcbad2",
      "metadata": {
        "ExecuteTime": {
          "end_time": "2023-03-20T12:24:42.930078Z",
          "start_time": "2023-03-20T12:24:42.913851Z"
        },
        "collapsed": true,
        "id": "02bcbad2"
      },
      "outputs": [],
      "source": [
        "breed_names = [re.findall('n\\d{8}-(.*)', i)[0][:-1].capitalize() for i in data_dirs]\n",
        "# breed_names"
      ]
    },
    {
      "cell_type": "code",
      "execution_count": null,
      "id": "6b62ec1c",
      "metadata": {
        "ExecuteTime": {
          "end_time": "2023-03-20T12:32:43.459069Z",
          "start_time": "2023-03-20T12:32:13.314309Z"
        },
        "collapsed": true,
        "id": "6b62ec1c"
      },
      "outputs": [],
      "source": [
        "X = []\n",
        "Z = []\n",
        "\n",
        "for i in range(120):\n",
        "    create_x_y(breed_names[i], data_dirs[i])\n",
        "    "
      ]
    },
    {
      "cell_type": "code",
      "execution_count": 25,
      "id": "b3a9e6cf",
      "metadata": {
        "ExecuteTime": {
          "end_time": "2023-03-20T12:33:04.863752Z",
          "start_time": "2023-03-20T12:33:03.894287Z"
        },
        "id": "b3a9e6cf"
      },
      "outputs": [],
      "source": [
        "X = np.array(X)\n",
        "# X"
      ]
    },
    {
      "cell_type": "code",
      "execution_count": 26,
      "id": "a3e32219",
      "metadata": {
        "ExecuteTime": {
          "end_time": "2023-03-20T12:35:59.557466Z",
          "start_time": "2023-03-20T12:35:59.457726Z"
        },
        "colab": {
          "base_uri": "https://localhost:8080/"
        },
        "id": "a3e32219",
        "outputId": "6867007f-6d1f-46c5-b8fd-a70aa6a6df19"
      },
      "outputs": [
        {
          "output_type": "execute_result",
          "data": {
            "text/plain": [
              "(12000, 224, 224, 3)"
            ]
          },
          "metadata": {},
          "execution_count": 26
        }
      ],
      "source": [
        "X.shape"
      ]
    },
    {
      "cell_type": "code",
      "execution_count": 30,
      "id": "93b0f3dc",
      "metadata": {
        "ExecuteTime": {
          "end_time": "2023-03-20T12:26:04.788078Z",
          "start_time": "2023-03-20T12:26:04.708278Z"
        },
        "id": "93b0f3dc"
      },
      "outputs": [],
      "source": [
        "label_encoder= LabelEncoder()\n",
        "y = label_encoder.fit_transform(Z)\n",
        "y = to_categorical(y,120)"
      ]
    },
    {
      "cell_type": "code",
      "execution_count": 32,
      "id": "aec42251",
      "metadata": {
        "ExecuteTime": {
          "end_time": "2023-03-20T12:26:24.326928Z",
          "start_time": "2023-03-20T12:26:24.301480Z"
        },
        "colab": {
          "base_uri": "https://localhost:8080/"
        },
        "id": "aec42251",
        "outputId": "0ac45295-9f18-4a0d-db5d-e8b0daa82059"
      },
      "outputs": [
        {
          "output_type": "execute_result",
          "data": {
            "text/plain": [
              "array([[1., 0., 0., ..., 0., 0., 0.],\n",
              "       [1., 0., 0., ..., 0., 0., 0.],\n",
              "       [1., 0., 0., ..., 0., 0., 0.],\n",
              "       ...,\n",
              "       [1., 0., 0., ..., 0., 0., 0.],\n",
              "       [1., 0., 0., ..., 0., 0., 0.],\n",
              "       [1., 0., 0., ..., 0., 0., 0.]], dtype=float32)"
            ]
          },
          "metadata": {},
          "execution_count": 32
        }
      ],
      "source": [
        "y[1]"
      ]
    },
    {
      "cell_type": "markdown",
      "source": [
        "## Show pics (TODO later)"
      ],
      "metadata": {
        "id": "d1f5ad46"
      },
      "id": "d1f5ad46"
    },
    {
      "cell_type": "code",
      "execution_count": 16,
      "id": "3cf4fdb1",
      "metadata": {
        "ExecuteTime": {
          "end_time": "2023-03-20T11:33:14.141971Z",
          "start_time": "2023-03-20T11:33:13.876454Z"
        },
        "id": "3cf4fdb1"
      },
      "outputs": [],
      "source": [
        "# Just show some pics\n",
        "\n",
        "# plt.axis('off')\n",
        "# # for i in range(0, 100, 10):\n",
        "# #     pic = cv2.imread(path + paths[i])\n",
        "# #     plt.imshow(pic)\n",
        "# pic = cv2.imread(path + 'n02097298-Scotch_terrier/' + 'n02097298_9217.jpg')\n",
        "# # print(pic.shape)\n",
        "# plt.imshow(pic);\n"
      ]
    },
    {
      "cell_type": "code",
      "execution_count": 18,
      "id": "9d58d456",
      "metadata": {
        "ExecuteTime": {
          "end_time": "2023-03-20T12:30:13.111480Z",
          "start_time": "2023-03-20T12:30:10.410246Z"
        },
        "id": "9d58d456"
      },
      "outputs": [],
      "source": [
        "# Just show some pics\n",
        "\n",
        "# fig,ax=plt.subplots(5,2)\n",
        "# fig.set_size_inches(15,15)\n",
        "# for i in range(5):\n",
        "#     for j in range (2):\n",
        "#         l=random.randint(0,len(Z))\n",
        "#         ax[i,j].imshow(X[l])\n",
        "#         ax[i,j].set_title('Breed: '+Z[l])\n",
        "\n",
        "# plt.axis('off')\n",
        "# plt.tight_layout()\n",
        "# fig.show;"
      ]
    },
    {
      "cell_type": "markdown",
      "source": [
        "## Try to model"
      ],
      "metadata": {
        "id": "c8f36fff"
      },
      "id": "c8f36fff"
    },
    {
      "cell_type": "code",
      "execution_count": null,
      "id": "b0b26f91",
      "metadata": {
        "id": "b0b26f91"
      },
      "outputs": [],
      "source": []
    },
    {
      "cell_type": "code",
      "execution_count": null,
      "id": "cf581dcb",
      "metadata": {
        "id": "cf581dcb"
      },
      "outputs": [],
      "source": []
    }
  ],
  "metadata": {
    "kernelspec": {
      "display_name": "Python 3 (ipykernel)",
      "language": "python",
      "name": "python3"
    },
    "language_info": {
      "codemirror_mode": {
        "name": "ipython",
        "version": 3
      },
      "file_extension": ".py",
      "mimetype": "text/x-python",
      "name": "python",
      "nbconvert_exporter": "python",
      "pygments_lexer": "ipython3",
      "version": "3.10.6"
    },
    "toc": {
      "base_numbering": 1,
      "nav_menu": {},
      "number_sections": true,
      "sideBar": true,
      "skip_h1_title": false,
      "title_cell": "Table of Contents",
      "title_sidebar": "Contents",
      "toc_cell": false,
      "toc_position": {},
      "toc_section_display": true,
      "toc_window_display": false
    },
    "varInspector": {
      "cols": {
        "lenName": 16,
        "lenType": 16,
        "lenVar": 40
      },
      "kernels_config": {
        "python": {
          "delete_cmd_postfix": "",
          "delete_cmd_prefix": "del ",
          "library": "var_list.py",
          "varRefreshCmd": "print(var_dic_list())"
        },
        "r": {
          "delete_cmd_postfix": ") ",
          "delete_cmd_prefix": "rm(",
          "library": "var_list.r",
          "varRefreshCmd": "cat(var_dic_list()) "
        }
      },
      "types_to_exclude": [
        "module",
        "function",
        "builtin_function_or_method",
        "instance",
        "_Feature"
      ],
      "window_display": false
    },
    "colab": {
      "provenance": []
    }
  },
  "nbformat": 4,
  "nbformat_minor": 5
}
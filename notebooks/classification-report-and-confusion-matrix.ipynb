{
 "cells": [
  {
   "cell_type": "code",
   "execution_count": null,
   "metadata": {
    "_cell_guid": "b1076dfc-b9ad-4769-8c92-a6c4dae69d19",
    "_uuid": "8f2839f25d086af736a60e9eeb907d3b93b6e0e5",
    "execution": {
     "iopub.execute_input": "2023-03-30T07:45:00.548990Z",
     "iopub.status.busy": "2023-03-30T07:45:00.548486Z",
     "iopub.status.idle": "2023-03-30T07:45:14.470719Z",
     "shell.execute_reply": "2023-03-30T07:45:14.469112Z",
     "shell.execute_reply.started": "2023-03-30T07:45:00.548947Z"
    }
   },
   "outputs": [],
   "source": [
    "import os,sys\n",
    "import cv2\n",
    "from tqdm import tqdm\n",
    "import re\n",
    "import random\n",
    "\n",
    "\n",
    "import pandas as pd\n",
    "import numpy as np\n",
    "\n",
    "import matplotlib.pyplot as plt\n",
    "import seaborn as sns\n",
    "import plotly.express as px\n",
    "\n",
    "\n",
    "from tensorflow.keras import models, Sequential, layers, regularizers, Model, Input\n",
    "from tensorflow.keras import optimizers\n",
    "from tensorflow.keras.callbacks import EarlyStopping, ModelCheckpoint, ReduceLROnPlateau\n",
    "from tensorflow.keras.utils import image_dataset_from_directory, get_file, plot_model\n",
    "import tensorflow.keras.applications.resnet50 as resnet50\n",
    "import tensorflow.keras.applications.inception_v3 as inception_v3\n",
    "\n",
    "from tensorflow.keras.applications.resnet50 import preprocess_input as resnet_preprocess_input\n",
    "from tensorflow.keras.applications.inception_v3 import preprocess_input as inception_preprocess_input\n",
    "from tensorflow.keras.models import load_model as keras_load_model\n",
    "\n",
    "from sklearn.metrics import classification_report, confusion_matrix\n"
   ]
  },
  {
   "cell_type": "markdown",
   "metadata": {},
   "source": [
    "# Dataset - Get y_true and y_pred"
   ]
  },
  {
   "cell_type": "code",
   "execution_count": null,
   "metadata": {
    "execution": {
     "iopub.execute_input": "2023-03-30T07:45:31.780748Z",
     "iopub.status.busy": "2023-03-30T07:45:31.780191Z",
     "iopub.status.idle": "2023-03-30T07:45:31.787180Z",
     "shell.execute_reply": "2023-03-30T07:45:31.785339Z",
     "shell.execute_reply.started": "2023-03-30T07:45:31.780700Z"
    }
   },
   "outputs": [],
   "source": [
    "path_train = '/kaggle/input/stanford-dogs-dataset-traintest/cropped/train'\n",
    "path_test = '/kaggle/input/stanford-dogs-dataset-traintest/cropped/test'"
   ]
  },
  {
   "cell_type": "code",
   "execution_count": null,
   "metadata": {
    "execution": {
     "iopub.execute_input": "2023-03-30T07:45:34.352358Z",
     "iopub.status.busy": "2023-03-30T07:45:34.350833Z",
     "iopub.status.idle": "2023-03-30T07:45:38.392254Z",
     "shell.execute_reply": "2023-03-30T07:45:38.390623Z",
     "shell.execute_reply.started": "2023-03-30T07:45:34.352281Z"
    }
   },
   "outputs": [],
   "source": [
    "# # TRAIN DATASET\n",
    "# train_ds = image_dataset_from_directory(directory=path_train,\n",
    "#                                       labels='inferred',\n",
    "#                                       label_mode=\"categorical\",\n",
    "#                                       validation_split=0.2,\n",
    "#                                       subset=\"training\",\n",
    "#                                       seed=123,\n",
    "#                                       image_size=(224, 224),\n",
    "#                                       batch_size=32)   \n",
    "\n",
    "# # Preprocess X in the train_dataset\n",
    "# prep_train_ds = train_ds.map(lambda x, y: (inception_preprocess_input(x), y))\n",
    "# # train_ds_prepro = train_dataset.map(preprocess)\n",
    "\n",
    "# ###########\n",
    "# #VALIDATION DATASET\n",
    "# validation_ds = image_dataset_from_directory(directory=path_train,\n",
    "#                                       labels='inferred',\n",
    "#                                       label_mode=\"categorical\",\n",
    "#                                       validation_split=0.2,\n",
    "#                                       subset=\"validation\",\n",
    "#                                       seed=123,\n",
    "#                                       image_size=(224, 224),\n",
    "#                                       batch_size=32)\n",
    "                                         \n",
    "# # Preprocess X in the val_dataset\n",
    "# prep_val_ds = validation_ds.map(lambda x, y: (inception_preprocess_input(x), y))\n",
    "\n",
    "############\n",
    "# TEST DATASET\n",
    "test_ds = image_dataset_from_directory(directory=path_test,\n",
    "                                            labels='inferred',\n",
    "                                            label_mode=\"categorical\",\n",
    "                                            validation_split=None,\n",
    "                                            subset=None,\n",
    "                                            shuffle=False,            #set shuffle=False \n",
    "                                            seed=123,\n",
    "                                            image_size=(224, 224),\n",
    "                                            batch_size=32) \n",
    "\n",
    "# Preprocess X in the test_dataset\n",
    "prep_test_ds = test_ds.map(lambda x, y: (inception_preprocess_input(x), y))"
   ]
  },
  {
   "cell_type": "code",
   "execution_count": null,
   "metadata": {
    "execution": {
     "iopub.execute_input": "2023-03-30T07:45:44.807754Z",
     "iopub.status.busy": "2023-03-30T07:45:44.807268Z",
     "iopub.status.idle": "2023-03-30T07:45:55.530141Z",
     "shell.execute_reply": "2023-03-30T07:45:55.528508Z",
     "shell.execute_reply.started": "2023-03-30T07:45:44.807713Z"
    }
   },
   "outputs": [],
   "source": [
    "# Load Inception_V3 model\n",
    "model_path=\"/kaggle/input/inception-model/inception_model.h5\"    #use load_selected_model function in registry.py\n",
    "model = keras_load_model(model_path, compile=False)\n",
    "model.summary()"
   ]
  },
  {
   "cell_type": "code",
   "execution_count": null,
   "metadata": {
    "execution": {
     "iopub.execute_input": "2023-03-30T07:46:02.766923Z",
     "iopub.status.busy": "2023-03-30T07:46:02.766495Z",
     "iopub.status.idle": "2023-03-30T07:46:02.796931Z",
     "shell.execute_reply": "2023-03-30T07:46:02.795666Z",
     "shell.execute_reply.started": "2023-03-30T07:46:02.766886Z"
    }
   },
   "outputs": [],
   "source": [
    "# Compile\n",
    "opt = optimizers.Adam(learning_rate=1e-4)\n",
    "model.compile(optimizer=opt,\n",
    "              loss='categorical_crossentropy',\n",
    "              metrics=['accuracy'])"
   ]
  },
  {
   "cell_type": "code",
   "execution_count": null,
   "metadata": {
    "execution": {
     "iopub.execute_input": "2023-03-29T14:34:16.196906Z",
     "iopub.status.busy": "2023-03-29T14:34:16.196492Z",
     "iopub.status.idle": "2023-03-29T14:34:16.525264Z",
     "shell.execute_reply": "2023-03-29T14:34:16.524063Z",
     "shell.execute_reply.started": "2023-03-29T14:34:16.196870Z"
    }
   },
   "outputs": [],
   "source": [
    "# Plot the diagram\n",
    "plot_model(model, show_shapes=True)"
   ]
  },
  {
   "cell_type": "code",
   "execution_count": null,
   "metadata": {
    "execution": {
     "iopub.execute_input": "2023-03-29T07:52:10.253270Z",
     "iopub.status.busy": "2023-03-29T07:52:10.251850Z",
     "iopub.status.idle": "2023-03-29T07:52:53.672849Z",
     "shell.execute_reply": "2023-03-29T07:52:53.671580Z",
     "shell.execute_reply.started": "2023-03-29T07:52:10.253222Z"
    }
   },
   "outputs": [],
   "source": [
    "# Evaluate the combined model on the test dataset\n",
    "res = model.evaluate(prep_test_ds) \n",
    "test_accuracy = res[-1]\n",
    "print(f\"test_accuracy_model_1 = {round(test_accuracy,2)*100} %\")"
   ]
  },
  {
   "cell_type": "code",
   "execution_count": null,
   "metadata": {
    "execution": {
     "iopub.execute_input": "2023-03-29T07:52:59.092902Z",
     "iopub.status.busy": "2023-03-29T07:52:59.091794Z",
     "iopub.status.idle": "2023-03-29T07:53:20.839362Z",
     "shell.execute_reply": "2023-03-29T07:53:20.838026Z",
     "shell.execute_reply.started": "2023-03-29T07:52:59.092850Z"
    }
   },
   "outputs": [],
   "source": [
    "# Get the predictions on the test images\n",
    "predictions = model.predict(prep_test_ds, batch_size=32)   #steps=269: Total number of steps (batches of samples) before declaring the prediction round finished.\n",
    "predictions, predictions.shape"
   ]
  },
  {
   "cell_type": "code",
   "execution_count": null,
   "metadata": {
    "execution": {
     "iopub.execute_input": "2023-03-29T07:53:25.649468Z",
     "iopub.status.busy": "2023-03-29T07:53:25.648351Z",
     "iopub.status.idle": "2023-03-29T07:53:25.659167Z",
     "shell.execute_reply": "2023-03-29T07:53:25.657687Z",
     "shell.execute_reply.started": "2023-03-29T07:53:25.649418Z"
    }
   },
   "outputs": [],
   "source": [
    "# Get y_pred \n",
    "y_pred = np.argmax(predictions, axis=1)  #returns the indices of the maximum values along an axis\n",
    "y_pred, y_pred.shape"
   ]
  },
  {
   "cell_type": "code",
   "execution_count": null,
   "metadata": {
    "execution": {
     "iopub.execute_input": "2023-03-29T07:53:27.437518Z",
     "iopub.status.busy": "2023-03-29T07:53:27.436397Z",
     "iopub.status.idle": "2023-03-29T07:53:37.239397Z",
     "shell.execute_reply": "2023-03-29T07:53:37.238161Z",
     "shell.execute_reply.started": "2023-03-29T07:53:27.437464Z"
    }
   },
   "outputs": [],
   "source": [
    "# Unbatch the test dataset\n",
    "\n",
    "unbatched_test_ds = prep_test_ds.unbatch()\n",
    "# images = list(unbatched_test_ds.map(lambda x, y: x))   #images\n",
    "labels = list(unbatched_test_ds.map(lambda x, y: y))   #y_true"
   ]
  },
  {
   "cell_type": "code",
   "execution_count": null,
   "metadata": {
    "execution": {
     "iopub.execute_input": "2023-03-29T07:53:39.638764Z",
     "iopub.status.busy": "2023-03-29T07:53:39.638165Z",
     "iopub.status.idle": "2023-03-29T07:53:39.978336Z",
     "shell.execute_reply": "2023-03-29T07:53:39.977266Z",
     "shell.execute_reply.started": "2023-03-29T07:53:39.638730Z"
    }
   },
   "outputs": [],
   "source": [
    "# Get y_true\n",
    "\n",
    "labels = np.array(labels)\n",
    "print(labels)\n",
    "\n",
    "y_true = np.argmax(labels, axis=1)    #argmax return the indices of the maximum values along an axis.\n",
    "y_true, y_true.shape, y_pred.shape"
   ]
  },
  {
   "cell_type": "code",
   "execution_count": null,
   "metadata": {
    "execution": {
     "iopub.execute_input": "2023-03-29T07:53:44.792785Z",
     "iopub.status.busy": "2023-03-29T07:53:44.792141Z",
     "iopub.status.idle": "2023-03-29T07:53:44.802224Z",
     "shell.execute_reply": "2023-03-29T07:53:44.801139Z",
     "shell.execute_reply.started": "2023-03-29T07:53:44.792750Z"
    },
    "scrolled": true
   },
   "outputs": [],
   "source": [
    "# Get the class names\n",
    "class_names = test_ds.class_names\n",
    "class_names = [re.findall('n\\d{8}-(.*)', i)[0].capitalize() for i in class_names]\n",
    "class_names"
   ]
  },
  {
   "cell_type": "markdown",
   "metadata": {},
   "source": [
    "# Classification report"
   ]
  },
  {
   "cell_type": "code",
   "execution_count": null,
   "metadata": {
    "execution": {
     "iopub.execute_input": "2023-03-29T07:53:46.834467Z",
     "iopub.status.busy": "2023-03-29T07:53:46.833768Z",
     "iopub.status.idle": "2023-03-29T07:53:46.858784Z",
     "shell.execute_reply": "2023-03-29T07:53:46.857621Z",
     "shell.execute_reply.started": "2023-03-29T07:53:46.834430Z"
    },
    "scrolled": true
   },
   "outputs": [],
   "source": [
    "# Classification report for all 120 classes\n",
    "report_120_classes = classification_report(y_true=y_true, y_pred=y_pred, target_names=class_names)\n",
    "print(report_120_classes)\n",
    "\n",
    "#precision = TP/(TP + FP) = accuracy of positive predictions (what percent of our predictions were correct?)\n",
    "#recall = TP/(TP+FN) = fraction of positives that were correctly identified (what percent of the positive cases did we catch?)\n",
    "#f1-score = 2*(Recall * Precision) / (Recall + Precision) = what percent of positive predictions were correct?\n",
    "#support = the number of actual occurrences of the class in the test dataset."
   ]
  },
  {
   "cell_type": "code",
   "execution_count": null,
   "metadata": {},
   "outputs": [],
   "source": [
    "# Change style\n",
    "report = classification_report(y_true=y_true, y_pred=y_pred, target_names=class_names, output_dict=True) \n",
    "report = pd.DataFrame(report).transpose()[:120].reset_index().rename(columns = {'index':'breeds'})\n",
    "\n",
    "properties = {\"color\": \"#241149\"}\n",
    "cell_hover = {\"selector\": \"td:hover\",\"props\": [(\"background-color\", \"#f7b8b3\")]}\n",
    "headers = {\"selector\": \"th:not(.index_name)\",\"props\": \"background-color: #241149; color: white;\"}\n",
    "report.style.format(precision=2).set_properties(**properties).set_table_styles([cell_hover, headers]).hide_index()\n"
   ]
  },
  {
   "cell_type": "markdown",
   "metadata": {},
   "source": [
    "# Confusion matrix"
   ]
  },
  {
   "cell_type": "code",
   "execution_count": null,
   "metadata": {
    "execution": {
     "iopub.execute_input": "2023-03-29T09:58:22.320192Z",
     "iopub.status.busy": "2023-03-29T09:58:22.319714Z",
     "iopub.status.idle": "2023-03-29T09:58:22.345629Z",
     "shell.execute_reply": "2023-03-29T09:58:22.344517Z",
     "shell.execute_reply.started": "2023-03-29T09:58:22.320156Z"
    }
   },
   "outputs": [],
   "source": [
    "# Confusion Matrix for all 120 classes \n",
    "print('Confusion Matrix')\n",
    "cm = confusion_matrix(y_true=y_true, y_pred=y_pred)     \n",
    "df = pd.DataFrame(cm, columns=class_names, index=class_names)  \n",
    "df"
   ]
  },
  {
   "cell_type": "code",
   "execution_count": null,
   "metadata": {
    "execution": {
     "iopub.execute_input": "2023-03-29T10:03:38.463523Z",
     "iopub.status.busy": "2023-03-29T10:03:38.462890Z",
     "iopub.status.idle": "2023-03-29T10:04:29.738262Z",
     "shell.execute_reply": "2023-03-29T10:04:29.736943Z",
     "shell.execute_reply.started": "2023-03-29T10:03:38.463486Z"
    }
   },
   "outputs": [],
   "source": [
    "# Confusion Matrix for all 120 classes \n",
    "fig = plt.figure(figsize=(80,80))\n",
    "sns.heatmap(df, annot=True)\n"
   ]
  },
  {
   "cell_type": "code",
   "execution_count": null,
   "metadata": {
    "execution": {
     "iopub.execute_input": "2023-03-29T10:06:06.348936Z",
     "iopub.status.busy": "2023-03-29T10:06:06.348574Z",
     "iopub.status.idle": "2023-03-29T10:06:21.361217Z",
     "shell.execute_reply": "2023-03-29T10:06:21.360183Z",
     "shell.execute_reply.started": "2023-03-29T10:06:06.348905Z"
    }
   },
   "outputs": [],
   "source": [
    "# Save the figure\n",
    "fig_cm = fig.get_figure()\n",
    "fig_cm.savefig(\"confusion_matrix.png\")"
   ]
  },
  {
   "cell_type": "markdown",
   "metadata": {},
   "source": [
    "# Horizontal Bar Charts "
   ]
  },
  {
   "cell_type": "code",
   "execution_count": null,
   "metadata": {
    "execution": {
     "iopub.execute_input": "2023-03-28T13:24:37.556446Z",
     "iopub.status.busy": "2023-03-28T13:24:37.556081Z",
     "iopub.status.idle": "2023-03-28T13:24:37.562867Z",
     "shell.execute_reply": "2023-03-28T13:24:37.560943Z",
     "shell.execute_reply.started": "2023-03-28T13:24:37.556413Z"
    }
   },
   "outputs": [],
   "source": [
    "import plotly.express as px"
   ]
  },
  {
   "cell_type": "code",
   "execution_count": null,
   "metadata": {
    "execution": {
     "iopub.execute_input": "2023-03-28T13:35:54.394097Z",
     "iopub.status.busy": "2023-03-28T13:35:54.393177Z",
     "iopub.status.idle": "2023-03-28T13:35:54.410426Z",
     "shell.execute_reply": "2023-03-28T13:35:54.408991Z",
     "shell.execute_reply.started": "2023-03-28T13:35:54.394048Z"
    },
    "scrolled": true
   },
   "outputs": [],
   "source": [
    "report[[\"precision\",\"recall\",\"f1-score\",\"support\"]] = report[[\"precision\",\"recall\",\"f1-score\",\"support\"]].round(decimals=3)\n",
    "report"
   ]
  },
  {
   "cell_type": "markdown",
   "metadata": {},
   "source": [
    "### Horizontal Bar Chart for The Least Regconized Breeds "
   ]
  },
  {
   "cell_type": "code",
   "execution_count": null,
   "metadata": {},
   "outputs": [],
   "source": [
    "# Add a horizontal bar chart for the least recognized breeds\n",
    "\n",
    "least_recognized_breeds = report.sort_values(by=\"recall\")[report.recall < 0.6]\n",
    "least_recognized_breeds = least_recognized_breeds.rename(columns = {'index':'breeds'})\n",
    "\n",
    "fig1= px.bar(least_recognized_breeds, x=\"recall\", y=\"breeds\", orientation=\"h\",\n",
    "                hover_data=['precision', 'f1-score'], height=400, width=650, color=\"recall\",\n",
    "                color_continuous_scale=\"pubu\", range_color=[0.5,1], template='simple_white')\n",
    "fig1.update_layout({'plot_bgcolor': 'rgba(0,0,0,0)', 'paper_bgcolor': 'rgba(0,0,0,0)'})\n",
    "fig1.show()"
   ]
  },
  {
   "cell_type": "markdown",
   "metadata": {},
   "source": [
    "### Horizontal Bar Chart for The Top Regconized Breeds"
   ]
  },
  {
   "cell_type": "code",
   "execution_count": null,
   "metadata": {},
   "outputs": [],
   "source": [
    "# Add a horizontal bar chart for the top recognized breeds\n",
    "\n",
    "top_recognized_breeds = report.sort_values(by=\"recall\")[report.recall > 0.98]\n",
    "top_recognized_breeds = top_recognized_breeds.rename(columns = {'index':'breeds'})\n",
    "\n",
    "fig2 = px.bar(top_recognized_breeds, x=\"recall\", y=\"breeds\", orientation=\"h\",\n",
    "                hover_data=['precision', 'f1-score'], height=400, width=650, color=\"recall\",\n",
    "                color_continuous_scale=\"pubu\", range_color=[0.5,1], template='simple_white')\n",
    "fig2.update_layout({'plot_bgcolor': 'rgba(0,0,0,0)', 'paper_bgcolor': 'rgba(0,0,0,0)'})\n",
    "fig2.show()"
   ]
  }
 ],
 "metadata": {
  "kernelspec": {
   "display_name": "Python 3 (ipykernel)",
   "language": "python",
   "name": "python3"
  },
  "language_info": {
   "codemirror_mode": {
    "name": "ipython",
    "version": 3
   },
   "file_extension": ".py",
   "mimetype": "text/x-python",
   "name": "python",
   "nbconvert_exporter": "python",
   "pygments_lexer": "ipython3",
   "version": "3.10.6"
  },
  "toc": {
   "base_numbering": 1,
   "nav_menu": {},
   "number_sections": false,
   "sideBar": true,
   "skip_h1_title": false,
   "title_cell": "Table of Contents",
   "title_sidebar": "Contents",
   "toc_cell": false,
   "toc_position": {},
   "toc_section_display": true,
   "toc_window_display": true
  },
  "varInspector": {
   "cols": {
    "lenName": 16,
    "lenType": 16,
    "lenVar": 40
   },
   "kernels_config": {
    "python": {
     "delete_cmd_postfix": "",
     "delete_cmd_prefix": "del ",
     "library": "var_list.py",
     "varRefreshCmd": "print(var_dic_list())"
    },
    "r": {
     "delete_cmd_postfix": ") ",
     "delete_cmd_prefix": "rm(",
     "library": "var_list.r",
     "varRefreshCmd": "cat(var_dic_list()) "
    }
   },
   "types_to_exclude": [
    "module",
    "function",
    "builtin_function_or_method",
    "instance",
    "_Feature"
   ],
   "window_display": false
  }
 },
 "nbformat": 4,
 "nbformat_minor": 4
}
